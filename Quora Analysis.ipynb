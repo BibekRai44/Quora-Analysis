{
 "cells": [
  {
   "cell_type": "code",
   "execution_count": 1,
   "id": "9c630604",
   "metadata": {},
   "outputs": [],
   "source": [
    "#importing necessery libraries\n",
    "\n",
    "import numpy as np\n",
    "import pandas as pd\n",
    "from matplotlib import pyplot as plt\n",
    "%matplotlib inline\n",
    "import warnings\n",
    "warnings.filterwarnings('ignore')\n",
    "import seaborn as sns\n"
   ]
  },
  {
   "cell_type": "code",
   "execution_count": 2,
   "id": "7d13c986",
   "metadata": {},
   "outputs": [
    {
     "data": {
      "text/html": [
       "<div>\n",
       "<style scoped>\n",
       "    .dataframe tbody tr th:only-of-type {\n",
       "        vertical-align: middle;\n",
       "    }\n",
       "\n",
       "    .dataframe tbody tr th {\n",
       "        vertical-align: top;\n",
       "    }\n",
       "\n",
       "    .dataframe thead th {\n",
       "        text-align: right;\n",
       "    }\n",
       "</style>\n",
       "<table border=\"1\" class=\"dataframe\">\n",
       "  <thead>\n",
       "    <tr style=\"text-align: right;\">\n",
       "      <th></th>\n",
       "      <th>id</th>\n",
       "      <th>qid1</th>\n",
       "      <th>qid2</th>\n",
       "      <th>question1</th>\n",
       "      <th>question2</th>\n",
       "      <th>is_duplicate</th>\n",
       "    </tr>\n",
       "  </thead>\n",
       "  <tbody>\n",
       "    <tr>\n",
       "      <th>0</th>\n",
       "      <td>0</td>\n",
       "      <td>1</td>\n",
       "      <td>2</td>\n",
       "      <td>What is the step by step guide to invest in sh...</td>\n",
       "      <td>What is the step by step guide to invest in sh...</td>\n",
       "      <td>0</td>\n",
       "    </tr>\n",
       "    <tr>\n",
       "      <th>1</th>\n",
       "      <td>1</td>\n",
       "      <td>3</td>\n",
       "      <td>4</td>\n",
       "      <td>What is the story of Kohinoor (Koh-i-Noor) Dia...</td>\n",
       "      <td>What would happen if the Indian government sto...</td>\n",
       "      <td>0</td>\n",
       "    </tr>\n",
       "    <tr>\n",
       "      <th>2</th>\n",
       "      <td>2</td>\n",
       "      <td>5</td>\n",
       "      <td>6</td>\n",
       "      <td>How can I increase the speed of my internet co...</td>\n",
       "      <td>How can Internet speed be increased by hacking...</td>\n",
       "      <td>0</td>\n",
       "    </tr>\n",
       "    <tr>\n",
       "      <th>3</th>\n",
       "      <td>3</td>\n",
       "      <td>7</td>\n",
       "      <td>8</td>\n",
       "      <td>Why am I mentally very lonely? How can I solve...</td>\n",
       "      <td>Find the remainder when [math]23^{24}[/math] i...</td>\n",
       "      <td>0</td>\n",
       "    </tr>\n",
       "    <tr>\n",
       "      <th>4</th>\n",
       "      <td>4</td>\n",
       "      <td>9</td>\n",
       "      <td>10</td>\n",
       "      <td>Which one dissolve in water quikly sugar, salt...</td>\n",
       "      <td>Which fish would survive in salt water?</td>\n",
       "      <td>0</td>\n",
       "    </tr>\n",
       "  </tbody>\n",
       "</table>\n",
       "</div>"
      ],
      "text/plain": [
       "   id  qid1  qid2                                          question1  \\\n",
       "0   0     1     2  What is the step by step guide to invest in sh...   \n",
       "1   1     3     4  What is the story of Kohinoor (Koh-i-Noor) Dia...   \n",
       "2   2     5     6  How can I increase the speed of my internet co...   \n",
       "3   3     7     8  Why am I mentally very lonely? How can I solve...   \n",
       "4   4     9    10  Which one dissolve in water quikly sugar, salt...   \n",
       "\n",
       "                                           question2  is_duplicate  \n",
       "0  What is the step by step guide to invest in sh...             0  \n",
       "1  What would happen if the Indian government sto...             0  \n",
       "2  How can Internet speed be increased by hacking...             0  \n",
       "3  Find the remainder when [math]23^{24}[/math] i...             0  \n",
       "4            Which fish would survive in salt water?             0  "
      ]
     },
     "execution_count": 2,
     "metadata": {},
     "output_type": "execute_result"
    }
   ],
   "source": [
    "#reading dataset\n",
    "df=pd.read_csv('/Users/bibekrai/tensorflow-test/Quora/train.csv')\n",
    "df.head()"
   ]
  },
  {
   "cell_type": "markdown",
   "id": "b8b2a556",
   "metadata": {},
   "source": [
    "## Basic EDA\n"
   ]
  },
  {
   "cell_type": "code",
   "execution_count": 3,
   "id": "c9d65ccc",
   "metadata": {},
   "outputs": [
    {
     "name": "stdout",
     "output_type": "stream",
     "text": [
      "<class 'pandas.core.frame.DataFrame'>\n",
      "RangeIndex: 404290 entries, 0 to 404289\n",
      "Data columns (total 6 columns):\n",
      " #   Column        Non-Null Count   Dtype \n",
      "---  ------        --------------   ----- \n",
      " 0   id            404290 non-null  int64 \n",
      " 1   qid1          404290 non-null  int64 \n",
      " 2   qid2          404290 non-null  int64 \n",
      " 3   question1     404289 non-null  object\n",
      " 4   question2     404288 non-null  object\n",
      " 5   is_duplicate  404290 non-null  int64 \n",
      "dtypes: int64(4), object(2)\n",
      "memory usage: 18.5+ MB\n"
     ]
    }
   ],
   "source": [
    "df.info()"
   ]
  },
  {
   "cell_type": "code",
   "execution_count": 4,
   "id": "71e3f3df",
   "metadata": {},
   "outputs": [
    {
     "data": {
      "text/plain": [
       "Index(['id', 'qid1', 'qid2', 'question1', 'question2', 'is_duplicate'], dtype='object')"
      ]
     },
     "execution_count": 4,
     "metadata": {},
     "output_type": "execute_result"
    }
   ],
   "source": [
    "df.columns"
   ]
  },
  {
   "cell_type": "code",
   "execution_count": 5,
   "id": "ebec820a",
   "metadata": {},
   "outputs": [
    {
     "data": {
      "text/html": [
       "<div>\n",
       "<style scoped>\n",
       "    .dataframe tbody tr th:only-of-type {\n",
       "        vertical-align: middle;\n",
       "    }\n",
       "\n",
       "    .dataframe tbody tr th {\n",
       "        vertical-align: top;\n",
       "    }\n",
       "\n",
       "    .dataframe thead th {\n",
       "        text-align: right;\n",
       "    }\n",
       "</style>\n",
       "<table border=\"1\" class=\"dataframe\">\n",
       "  <thead>\n",
       "    <tr style=\"text-align: right;\">\n",
       "      <th></th>\n",
       "      <th>id</th>\n",
       "      <th>qid1</th>\n",
       "      <th>qid2</th>\n",
       "      <th>is_duplicate</th>\n",
       "    </tr>\n",
       "  </thead>\n",
       "  <tbody>\n",
       "    <tr>\n",
       "      <th>count</th>\n",
       "      <td>404290.000000</td>\n",
       "      <td>404290.000000</td>\n",
       "      <td>404290.000000</td>\n",
       "      <td>404290.000000</td>\n",
       "    </tr>\n",
       "    <tr>\n",
       "      <th>mean</th>\n",
       "      <td>202144.500000</td>\n",
       "      <td>217243.942418</td>\n",
       "      <td>220955.655337</td>\n",
       "      <td>0.369198</td>\n",
       "    </tr>\n",
       "    <tr>\n",
       "      <th>std</th>\n",
       "      <td>116708.614503</td>\n",
       "      <td>157751.700002</td>\n",
       "      <td>159903.182629</td>\n",
       "      <td>0.482588</td>\n",
       "    </tr>\n",
       "    <tr>\n",
       "      <th>min</th>\n",
       "      <td>0.000000</td>\n",
       "      <td>1.000000</td>\n",
       "      <td>2.000000</td>\n",
       "      <td>0.000000</td>\n",
       "    </tr>\n",
       "    <tr>\n",
       "      <th>25%</th>\n",
       "      <td>101072.250000</td>\n",
       "      <td>74437.500000</td>\n",
       "      <td>74727.000000</td>\n",
       "      <td>0.000000</td>\n",
       "    </tr>\n",
       "    <tr>\n",
       "      <th>50%</th>\n",
       "      <td>202144.500000</td>\n",
       "      <td>192182.000000</td>\n",
       "      <td>197052.000000</td>\n",
       "      <td>0.000000</td>\n",
       "    </tr>\n",
       "    <tr>\n",
       "      <th>75%</th>\n",
       "      <td>303216.750000</td>\n",
       "      <td>346573.500000</td>\n",
       "      <td>354692.500000</td>\n",
       "      <td>1.000000</td>\n",
       "    </tr>\n",
       "    <tr>\n",
       "      <th>max</th>\n",
       "      <td>404289.000000</td>\n",
       "      <td>537932.000000</td>\n",
       "      <td>537933.000000</td>\n",
       "      <td>1.000000</td>\n",
       "    </tr>\n",
       "  </tbody>\n",
       "</table>\n",
       "</div>"
      ],
      "text/plain": [
       "                  id           qid1           qid2   is_duplicate\n",
       "count  404290.000000  404290.000000  404290.000000  404290.000000\n",
       "mean   202144.500000  217243.942418  220955.655337       0.369198\n",
       "std    116708.614503  157751.700002  159903.182629       0.482588\n",
       "min         0.000000       1.000000       2.000000       0.000000\n",
       "25%    101072.250000   74437.500000   74727.000000       0.000000\n",
       "50%    202144.500000  192182.000000  197052.000000       0.000000\n",
       "75%    303216.750000  346573.500000  354692.500000       1.000000\n",
       "max    404289.000000  537932.000000  537933.000000       1.000000"
      ]
     },
     "execution_count": 5,
     "metadata": {},
     "output_type": "execute_result"
    }
   ],
   "source": [
    "df.describe()"
   ]
  },
  {
   "cell_type": "code",
   "execution_count": 6,
   "id": "1a22bd8e",
   "metadata": {},
   "outputs": [
    {
     "data": {
      "text/plain": [
       "id      qid1    qid2    question1                                                                              question2                                                                                                                                           is_duplicate\n",
       "0       1       2       What is the step by step guide to invest in share market in india?                     What is the step by step guide to invest in share market?                                                                                           0               1\n",
       "269534  387254  387255  What is a good book about design?                                                      What are the best books about designing for emotion?                                                                                                0               1\n",
       "269532  387250  387251  Is \"A Head Full of Dreams\" going to be Coldplay's last album?                          What is the song \"A head full of dreams\" by Coldplay about?                                                                                         0               1\n",
       "269531  188813  229100  How do you get rid of 'super lice'?                                                    How can girls get rid of lice and nits?                                                                                                             1               1\n",
       "269530  333156  305679  Why do people fall in love with physical appearance?                                   How do I know if I am ugly to most people?                                                                                                          0               1\n",
       "                                                                                                                                                                                                                                                                                  ..\n",
       "134761  215329  215330  Would I get my CoCubes money back upon cancelling?                                     Typically how often a customer visits a retail store?                                                                                               0               1\n",
       "134760  215327  215328  Where can I find a list of master thesis topics for supply chain management?           How do I define a master thesis topic in the area of Project and innovation Management?                                                             0               1\n",
       "134759  215325  215326  Would large quantities of dry ice be helpful in smothering forest fires / bush fires?  How can forest fires have a positive effect?                                                                                                        0               1\n",
       "134758  215323  215324  Which after market exhaust is best for Bajaj Avenger 150 street?                       I feel useless because despite of being a college & school topper I am unable to work .fall ill a lot, computer causes dry eyes.how can I improve?  0               1\n",
       "404289  537932  537933  What is like to have sex with cousin?                                                  What is it like to have sex with your cousin?                                                                                                       0               1\n",
       "Length: 404287, dtype: int64"
      ]
     },
     "execution_count": 6,
     "metadata": {},
     "output_type": "execute_result"
    }
   ],
   "source": [
    "df.value_counts()"
   ]
  },
  {
   "cell_type": "code",
   "execution_count": 7,
   "id": "6b8e5f83",
   "metadata": {},
   "outputs": [
    {
     "data": {
      "text/plain": [
       "id               int64\n",
       "qid1             int64\n",
       "qid2             int64\n",
       "question1       object\n",
       "question2       object\n",
       "is_duplicate     int64\n",
       "dtype: object"
      ]
     },
     "execution_count": 7,
     "metadata": {},
     "output_type": "execute_result"
    }
   ],
   "source": [
    "df.dtypes"
   ]
  },
  {
   "cell_type": "code",
   "execution_count": 8,
   "id": "10c538aa",
   "metadata": {},
   "outputs": [
    {
     "data": {
      "text/plain": [
       "(404290, 6)"
      ]
     },
     "execution_count": 8,
     "metadata": {},
     "output_type": "execute_result"
    }
   ],
   "source": [
    "df.shape"
   ]
  },
  {
   "cell_type": "code",
   "execution_count": 9,
   "id": "57546c77",
   "metadata": {},
   "outputs": [
    {
     "data": {
      "text/plain": [
       "0    255027\n",
       "1    149263\n",
       "Name: is_duplicate, dtype: int64"
      ]
     },
     "execution_count": 9,
     "metadata": {},
     "output_type": "execute_result"
    }
   ],
   "source": [
    "df['is_duplicate'].value_counts()"
   ]
  },
  {
   "cell_type": "code",
   "execution_count": 10,
   "id": "00ff159f",
   "metadata": {},
   "outputs": [
    {
     "data": {
      "text/plain": [
       "404290"
      ]
     },
     "execution_count": 10,
     "metadata": {},
     "output_type": "execute_result"
    }
   ],
   "source": [
    "len(df)"
   ]
  },
  {
   "cell_type": "code",
   "execution_count": 11,
   "id": "e7a46275",
   "metadata": {},
   "outputs": [
    {
     "data": {
      "text/plain": [
       "0    63.080215\n",
       "1    36.919785\n",
       "Name: is_duplicate, dtype: float64"
      ]
     },
     "execution_count": 11,
     "metadata": {},
     "output_type": "execute_result"
    }
   ],
   "source": [
    "(df['is_duplicate'].value_counts()/len(df))*100"
   ]
  },
  {
   "cell_type": "markdown",
   "id": "05a96345",
   "metadata": {},
   "source": [
    "## Findings unique questions in dataset"
   ]
  },
  {
   "cell_type": "code",
   "execution_count": 12,
   "id": "90fd269d",
   "metadata": {},
   "outputs": [],
   "source": [
    "l1=df['qid1'].tolist()"
   ]
  },
  {
   "cell_type": "code",
   "execution_count": 13,
   "id": "b93cfdba",
   "metadata": {},
   "outputs": [],
   "source": [
    "l2=df['qid2'].tolist()"
   ]
  },
  {
   "cell_type": "code",
   "execution_count": 14,
   "id": "9b811ab5",
   "metadata": {},
   "outputs": [
    {
     "data": {
      "text/plain": [
       "808580"
      ]
     },
     "execution_count": 14,
     "metadata": {},
     "output_type": "execute_result"
    }
   ],
   "source": [
    "len(l1+l2)"
   ]
  },
  {
   "cell_type": "code",
   "execution_count": 15,
   "id": "267b5aa1",
   "metadata": {},
   "outputs": [
    {
     "data": {
      "text/plain": [
       "0              1\n",
       "1              3\n",
       "2              5\n",
       "3              7\n",
       "4              9\n",
       "           ...  \n",
       "808575    379845\n",
       "808576    155606\n",
       "808577    537929\n",
       "808578    537931\n",
       "808579    537933\n",
       "Length: 808580, dtype: int64"
      ]
     },
     "execution_count": 15,
     "metadata": {},
     "output_type": "execute_result"
    }
   ],
   "source": [
    "qids=pd.Series(l1+l2)\n",
    "qids"
   ]
  },
  {
   "cell_type": "code",
   "execution_count": 16,
   "id": "eb48bf13",
   "metadata": {},
   "outputs": [
    {
     "data": {
      "text/plain": [
       "array([     1,      2,      3, ..., 537931, 537932, 537933])"
      ]
     },
     "execution_count": 16,
     "metadata": {},
     "output_type": "execute_result"
    }
   ],
   "source": [
    "np.unique(qids)"
   ]
  },
  {
   "cell_type": "code",
   "execution_count": 17,
   "id": "0518e129",
   "metadata": {},
   "outputs": [
    {
     "data": {
      "text/plain": [
       "537933"
      ]
     },
     "execution_count": 17,
     "metadata": {},
     "output_type": "execute_result"
    }
   ],
   "source": [
    "unique_qs=len(np.unique(qids))\n",
    "unique_qs"
   ]
  },
  {
   "cell_type": "markdown",
   "id": "05c50d96",
   "metadata": {},
   "source": [
    "**Observation**\\\n",
    "537933 unique questions are present in the dataset."
   ]
  },
  {
   "cell_type": "markdown",
   "id": "66d76016",
   "metadata": {},
   "source": [
    "## Finding number of unique question that appear more than one time"
   ]
  },
  {
   "cell_type": "code",
   "execution_count": 18,
   "id": "7a68f8dc",
   "metadata": {},
   "outputs": [
    {
     "data": {
      "text/plain": [
       "2559      157\n",
       "30782     120\n",
       "4044      111\n",
       "2561       88\n",
       "14376      79\n",
       "         ... \n",
       "416446      1\n",
       "416444      1\n",
       "416441      1\n",
       "416439      1\n",
       "537933      1\n",
       "Length: 537933, dtype: int64"
      ]
     },
     "execution_count": 18,
     "metadata": {},
     "output_type": "execute_result"
    }
   ],
   "source": [
    "qids.value_counts()"
   ]
  },
  {
   "cell_type": "code",
   "execution_count": 19,
   "id": "4fee1c88",
   "metadata": {},
   "outputs": [
    {
     "data": {
      "text/plain": [
       "111780"
      ]
     },
     "execution_count": 19,
     "metadata": {},
     "output_type": "execute_result"
    }
   ],
   "source": [
    "unique_question_appeared_morethen1time=np.sum(qids.value_counts()>1)\n",
    "unique_question_appeared_morethen1time"
   ]
  },
  {
   "cell_type": "code",
   "execution_count": 20,
   "id": "012a0013",
   "metadata": {},
   "outputs": [
    {
     "data": {
      "text/plain": [
       "20.77953945937505"
      ]
     },
     "execution_count": 20,
     "metadata": {},
     "output_type": "execute_result"
    }
   ],
   "source": [
    "unique_question_appeared_morethen1time_occuranceprobability=(unique_question_appeared_morethen1time/unique_qs)*100\n",
    "unique_question_appeared_morethen1time_occuranceprobability"
   ]
  },
  {
   "cell_type": "markdown",
   "id": "663596e1",
   "metadata": {},
   "source": [
    "**Observation**\\\n",
    "\\\n",
    "111780 unique question is appeared more than 1 time and the apperanance probabilty is 20%."
   ]
  },
  {
   "cell_type": "markdown",
   "id": "eec2a7da",
   "metadata": {},
   "source": [
    "## Max number of time single question is repeated."
   ]
  },
  {
   "cell_type": "code",
   "execution_count": 21,
   "id": "08b404db",
   "metadata": {},
   "outputs": [
    {
     "data": {
      "text/plain": [
       "2559      157\n",
       "30782     120\n",
       "4044      111\n",
       "2561       88\n",
       "14376      79\n",
       "         ... \n",
       "416446      1\n",
       "416444      1\n",
       "416441      1\n",
       "416439      1\n",
       "537933      1\n",
       "Length: 537933, dtype: int64"
      ]
     },
     "execution_count": 21,
     "metadata": {},
     "output_type": "execute_result"
    }
   ],
   "source": [
    "qids.value_counts()"
   ]
  },
  {
   "cell_type": "code",
   "execution_count": 22,
   "id": "42eac0de",
   "metadata": {},
   "outputs": [
    {
     "data": {
      "text/plain": [
       "157"
      ]
     },
     "execution_count": 22,
     "metadata": {},
     "output_type": "execute_result"
    }
   ],
   "source": [
    "qids.value_counts().max()"
   ]
  },
  {
   "cell_type": "markdown",
   "id": "132192a7",
   "metadata": {},
   "source": [
    "**Observation**\\\n",
    "\\\n",
    "Question with id 2559 is reapeated 157 times which is highest number of times any unique question is repeated"
   ]
  },
  {
   "cell_type": "markdown",
   "id": "f85633c5",
   "metadata": {},
   "source": [
    "## Data Visualization"
   ]
  },
  {
   "cell_type": "markdown",
   "id": "f157285d",
   "metadata": {},
   "source": [
    "**Plot Repeated and unique questions**"
   ]
  },
  {
   "cell_type": "code",
   "execution_count": 23,
   "id": "6177d2b1",
   "metadata": {},
   "outputs": [
    {
     "data": {
      "text/plain": [
       "<BarContainer object of 2 artists>"
      ]
     },
     "execution_count": 23,
     "metadata": {},
     "output_type": "execute_result"
    },
    {
     "data": {
      "image/png": "[encoded data removed]",
      "text/plain": [
       "<Figure size 640x480 with 1 Axes>"
      ]
     },
     "metadata": {},
     "output_type": "display_data"
    }
   ],
   "source": [
    "x=['Unique questions','Repeated questions']\n",
    "y=[unique_qs,unique_question_appeared_morethen1time]\n",
    "plt.bar(x,y,width=0.4)"
   ]
  },
  {
   "cell_type": "markdown",
   "id": "99c5533e",
   "metadata": {},
   "source": [
    "## Checking for Duplicates"
   ]
  },
  {
   "cell_type": "code",
   "execution_count": 24,
   "id": "7b094d59",
   "metadata": {},
   "outputs": [
    {
     "data": {
      "text/plain": [
       "Index(['id', 'qid1', 'qid2', 'question1', 'question2', 'is_duplicate'], dtype='object')"
      ]
     },
     "execution_count": 24,
     "metadata": {},
     "output_type": "execute_result"
    }
   ],
   "source": [
    "df.columns"
   ]
  },
  {
   "cell_type": "code",
   "execution_count": 25,
   "id": "6e723439",
   "metadata": {},
   "outputs": [
    {
     "data": {
      "text/html": [
       "<div>\n",
       "<style scoped>\n",
       "    .dataframe tbody tr th:only-of-type {\n",
       "        vertical-align: middle;\n",
       "    }\n",
       "\n",
       "    .dataframe tbody tr th {\n",
       "        vertical-align: top;\n",
       "    }\n",
       "\n",
       "    .dataframe thead th {\n",
       "        text-align: right;\n",
       "    }\n",
       "</style>\n",
       "<table border=\"1\" class=\"dataframe\">\n",
       "  <thead>\n",
       "    <tr style=\"text-align: right;\">\n",
       "      <th></th>\n",
       "      <th></th>\n",
       "      <th>is_duplicate</th>\n",
       "    </tr>\n",
       "    <tr>\n",
       "      <th>qid1</th>\n",
       "      <th>qid2</th>\n",
       "      <th></th>\n",
       "    </tr>\n",
       "  </thead>\n",
       "  <tbody>\n",
       "    <tr>\n",
       "      <th>1</th>\n",
       "      <th>2</th>\n",
       "      <td>1</td>\n",
       "    </tr>\n",
       "    <tr>\n",
       "      <th rowspan=\"4\" valign=\"top\">3</th>\n",
       "      <th>4</th>\n",
       "      <td>1</td>\n",
       "    </tr>\n",
       "    <tr>\n",
       "      <th>282170</th>\n",
       "      <td>1</td>\n",
       "    </tr>\n",
       "    <tr>\n",
       "      <th>380197</th>\n",
       "      <td>1</td>\n",
       "    </tr>\n",
       "    <tr>\n",
       "      <th>488853</th>\n",
       "      <td>1</td>\n",
       "    </tr>\n",
       "    <tr>\n",
       "      <th>...</th>\n",
       "      <th>...</th>\n",
       "      <td>...</td>\n",
       "    </tr>\n",
       "    <tr>\n",
       "      <th>537924</th>\n",
       "      <th>537925</th>\n",
       "      <td>1</td>\n",
       "    </tr>\n",
       "    <tr>\n",
       "      <th>537926</th>\n",
       "      <th>537927</th>\n",
       "      <td>1</td>\n",
       "    </tr>\n",
       "    <tr>\n",
       "      <th>537928</th>\n",
       "      <th>537929</th>\n",
       "      <td>1</td>\n",
       "    </tr>\n",
       "    <tr>\n",
       "      <th>537930</th>\n",
       "      <th>537931</th>\n",
       "      <td>1</td>\n",
       "    </tr>\n",
       "    <tr>\n",
       "      <th>537932</th>\n",
       "      <th>537933</th>\n",
       "      <td>1</td>\n",
       "    </tr>\n",
       "  </tbody>\n",
       "</table>\n",
       "<p>404290 rows × 1 columns</p>\n",
       "</div>"
      ],
      "text/plain": [
       "               is_duplicate\n",
       "qid1   qid2                \n",
       "1      2                  1\n",
       "3      4                  1\n",
       "       282170             1\n",
       "       380197             1\n",
       "       488853             1\n",
       "...                     ...\n",
       "537924 537925             1\n",
       "537926 537927             1\n",
       "537928 537929             1\n",
       "537930 537931             1\n",
       "537932 537933             1\n",
       "\n",
       "[404290 rows x 1 columns]"
      ]
     },
     "execution_count": 25,
     "metadata": {},
     "output_type": "execute_result"
    }
   ],
   "source": [
    "pair_duplicates=df[['qid1','qid2','is_duplicate']].groupby(['qid1','qid2']).count()\n",
    "pair_duplicates"
   ]
  },
  {
   "cell_type": "markdown",
   "id": "67876c8f",
   "metadata": {},
   "source": [
    "**No of occurence of questions**"
   ]
  },
  {
   "cell_type": "code",
   "execution_count": 26,
   "id": "63f356b4",
   "metadata": {},
   "outputs": [
    {
     "data": {
      "text/plain": [
       "Text(0, 0.5, 'No of questions')"
      ]
     },
     "execution_count": 26,
     "metadata": {},
     "output_type": "execute_result"
    },
    {
     "data": {
      "image/png": "[encoded data removed]",
      "text/plain": [
       "<Figure size 1200x800 with 1 Axes>"
      ]
     },
     "metadata": {},
     "output_type": "display_data"
    }
   ],
   "source": [
    "plt.figure(figsize=(12,8))\n",
    "plt.hist(qids.value_counts(),bins=150)\n",
    "plt.yscale('log')\n",
    "plt.title('log Hist diagram of no of occurence of questions')\n",
    "plt.xlabel('No of occurence of questions')\n",
    "plt.ylabel('No of questions')"
   ]
  },
  {
   "cell_type": "markdown",
   "id": "fe655cb9",
   "metadata": {},
   "source": [
    "**Checking for missing values in data**"
   ]
  },
  {
   "cell_type": "code",
   "execution_count": 27,
   "id": "2e452ae9",
   "metadata": {},
   "outputs": [
    {
     "data": {
      "text/plain": [
       "2"
      ]
     },
     "execution_count": 27,
     "metadata": {},
     "output_type": "execute_result"
    }
   ],
   "source": [
    "df.isnull().any().sum()"
   ]
  },
  {
   "cell_type": "code",
   "execution_count": 28,
   "id": "6d8f9e3c",
   "metadata": {},
   "outputs": [
    {
     "data": {
      "text/plain": [
       "id              0\n",
       "qid1            0\n",
       "qid2            0\n",
       "question1       1\n",
       "question2       2\n",
       "is_duplicate    0\n",
       "dtype: int64"
      ]
     },
     "execution_count": 28,
     "metadata": {},
     "output_type": "execute_result"
    }
   ],
   "source": [
    "df.isnull().sum()"
   ]
  },
  {
   "cell_type": "code",
   "execution_count": 29,
   "id": "778af8e0",
   "metadata": {},
   "outputs": [],
   "source": [
    "df.fillna('',inplace=True)"
   ]
  },
  {
   "cell_type": "code",
   "execution_count": 30,
   "id": "33fbc5c8",
   "metadata": {},
   "outputs": [
    {
     "data": {
      "text/plain": [
       "0"
      ]
     },
     "execution_count": 30,
     "metadata": {},
     "output_type": "execute_result"
    }
   ],
   "source": [
    "df.isnull().any().sum()"
   ]
  },
  {
   "cell_type": "code",
   "execution_count": 31,
   "id": "c89510c1",
   "metadata": {},
   "outputs": [
    {
     "data": {
      "text/html": [
       "<div>\n",
       "<style scoped>\n",
       "    .dataframe tbody tr th:only-of-type {\n",
       "        vertical-align: middle;\n",
       "    }\n",
       "\n",
       "    .dataframe tbody tr th {\n",
       "        vertical-align: top;\n",
       "    }\n",
       "\n",
       "    .dataframe thead th {\n",
       "        text-align: right;\n",
       "    }\n",
       "</style>\n",
       "<table border=\"1\" class=\"dataframe\">\n",
       "  <thead>\n",
       "    <tr style=\"text-align: right;\">\n",
       "      <th></th>\n",
       "      <th>id</th>\n",
       "      <th>qid1</th>\n",
       "      <th>qid2</th>\n",
       "      <th>question1</th>\n",
       "      <th>question2</th>\n",
       "      <th>is_duplicate</th>\n",
       "    </tr>\n",
       "  </thead>\n",
       "  <tbody>\n",
       "    <tr>\n",
       "      <th>0</th>\n",
       "      <td>0</td>\n",
       "      <td>1</td>\n",
       "      <td>2</td>\n",
       "      <td>What is the step by step guide to invest in sh...</td>\n",
       "      <td>What is the step by step guide to invest in sh...</td>\n",
       "      <td>0</td>\n",
       "    </tr>\n",
       "    <tr>\n",
       "      <th>1</th>\n",
       "      <td>1</td>\n",
       "      <td>3</td>\n",
       "      <td>4</td>\n",
       "      <td>What is the story of Kohinoor (Koh-i-Noor) Dia...</td>\n",
       "      <td>What would happen if the Indian government sto...</td>\n",
       "      <td>0</td>\n",
       "    </tr>\n",
       "    <tr>\n",
       "      <th>2</th>\n",
       "      <td>2</td>\n",
       "      <td>5</td>\n",
       "      <td>6</td>\n",
       "      <td>How can I increase the speed of my internet co...</td>\n",
       "      <td>How can Internet speed be increased by hacking...</td>\n",
       "      <td>0</td>\n",
       "    </tr>\n",
       "    <tr>\n",
       "      <th>3</th>\n",
       "      <td>3</td>\n",
       "      <td>7</td>\n",
       "      <td>8</td>\n",
       "      <td>Why am I mentally very lonely? How can I solve...</td>\n",
       "      <td>Find the remainder when [math]23^{24}[/math] i...</td>\n",
       "      <td>0</td>\n",
       "    </tr>\n",
       "    <tr>\n",
       "      <th>4</th>\n",
       "      <td>4</td>\n",
       "      <td>9</td>\n",
       "      <td>10</td>\n",
       "      <td>Which one dissolve in water quikly sugar, salt...</td>\n",
       "      <td>Which fish would survive in salt water?</td>\n",
       "      <td>0</td>\n",
       "    </tr>\n",
       "  </tbody>\n",
       "</table>\n",
       "</div>"
      ],
      "text/plain": [
       "   id  qid1  qid2                                          question1  \\\n",
       "0   0     1     2  What is the step by step guide to invest in sh...   \n",
       "1   1     3     4  What is the story of Kohinoor (Koh-i-Noor) Dia...   \n",
       "2   2     5     6  How can I increase the speed of my internet co...   \n",
       "3   3     7     8  Why am I mentally very lonely? How can I solve...   \n",
       "4   4     9    10  Which one dissolve in water quikly sugar, salt...   \n",
       "\n",
       "                                           question2  is_duplicate  \n",
       "0  What is the step by step guide to invest in sh...             0  \n",
       "1  What would happen if the Indian government sto...             0  \n",
       "2  How can Internet speed be increased by hacking...             0  \n",
       "3  Find the remainder when [math]23^{24}[/math] i...             0  \n",
       "4            Which fish would survive in salt water?             0  "
      ]
     },
     "execution_count": 31,
     "metadata": {},
     "output_type": "execute_result"
    }
   ],
   "source": [
    "df.head()"
   ]
  },
  {
   "cell_type": "code",
   "execution_count": 32,
   "id": "6f3189b5",
   "metadata": {},
   "outputs": [
    {
     "data": {
      "text/plain": [
       "0         What is the step by step guide to invest in sh...\n",
       "1         What is the story of Kohinoor (Koh-i-Noor) Dia...\n",
       "2         How can I increase the speed of my internet co...\n",
       "3         Why am I mentally very lonely? How can I solve...\n",
       "4         Which one dissolve in water quikly sugar, salt...\n",
       "                                ...                        \n",
       "808575    How many keywords are there in PERL Programmin...\n",
       "808576           Is it true that there is life after death?\n",
       "808577                                    What's this coin?\n",
       "808578    I am having little hairfall problem but I want...\n",
       "808579        What is it like to have sex with your cousin?\n",
       "Length: 808580, dtype: object"
      ]
     },
     "execution_count": 32,
     "metadata": {},
     "output_type": "execute_result"
    }
   ],
   "source": [
    "train_qs=pd.Series(list(df['question1'])+list(df['question2']))\n",
    "train_qs"
   ]
  },
  {
   "cell_type": "markdown",
   "id": "c1006d74",
   "metadata": {},
   "source": [
    "## Text Analysis"
   ]
  },
  {
   "cell_type": "code",
   "execution_count": 33,
   "id": "f57b733c",
   "metadata": {},
   "outputs": [],
   "source": [
    "train_data=\" \".join(train_qs)"
   ]
  },
  {
   "cell_type": "code",
   "execution_count": 34,
   "id": "85fda09b",
   "metadata": {},
   "outputs": [
    {
     "data": {
      "text/plain": [
       "49179886"
      ]
     },
     "execution_count": 34,
     "metadata": {},
     "output_type": "execute_result"
    }
   ],
   "source": [
    "len(train_data)"
   ]
  },
  {
   "cell_type": "code",
   "execution_count": 35,
   "id": "ea713230",
   "metadata": {},
   "outputs": [
    {
     "name": "stdout",
     "output_type": "stream",
     "text": [
      "Requirement already satisfied: wordcloud in /Users/bibekrai/tensorflow-test/env/lib/python3.10/site-packages (1.8.2.2)\n",
      "Requirement already satisfied: numpy>=1.6.1 in /Users/bibekrai/tensorflow-test/env/lib/python3.10/site-packages (from wordcloud) (1.23.2)\n",
      "Requirement already satisfied: pillow in /Users/bibekrai/tensorflow-test/env/lib/python3.10/site-packages (from wordcloud) (9.2.0)\n",
      "Requirement already satisfied: matplotlib in /Users/bibekrai/tensorflow-test/env/lib/python3.10/site-packages (from wordcloud) (3.6.2)\n",
      "Requirement already satisfied: pyparsing>=2.2.1 in /Users/bibekrai/tensorflow-test/env/lib/python3.10/site-packages (from matplotlib->wordcloud) (3.0.9)\n",
      "Requirement already satisfied: fonttools>=4.22.0 in /Users/bibekrai/tensorflow-test/env/lib/python3.10/site-packages (from matplotlib->wordcloud) (4.38.0)\n",
      "Requirement already satisfied: cycler>=0.10 in /Users/bibekrai/tensorflow-test/env/lib/python3.10/site-packages (from matplotlib->wordcloud) (0.11.0)\n",
      "Requirement already satisfied: packaging>=20.0 in /Users/bibekrai/tensorflow-test/env/lib/python3.10/site-packages (from matplotlib->wordcloud) (22.0)\n",
      "Requirement already satisfied: contourpy>=1.0.1 in /Users/bibekrai/tensorflow-test/env/lib/python3.10/site-packages (from matplotlib->wordcloud) (1.0.6)\n",
      "Requirement already satisfied: python-dateutil>=2.7 in /Users/bibekrai/tensorflow-test/env/lib/python3.10/site-packages (from matplotlib->wordcloud) (2.8.2)\n",
      "Requirement already satisfied: kiwisolver>=1.0.1 in /Users/bibekrai/tensorflow-test/env/lib/python3.10/site-packages (from matplotlib->wordcloud) (1.4.4)\n",
      "Requirement already satisfied: six>=1.5 in /Users/bibekrai/tensorflow-test/env/lib/python3.10/site-packages (from python-dateutil>=2.7->matplotlib->wordcloud) (1.16.0)\n"
     ]
    }
   ],
   "source": [
    "!pip install wordcloud\n"
   ]
  },
  {
   "cell_type": "code",
   "execution_count": 36,
   "id": "95dff6bb",
   "metadata": {},
   "outputs": [],
   "source": [
    "from wordcloud import WordCloud"
   ]
  },
  {
   "cell_type": "code",
   "execution_count": 37,
   "id": "9edba5ee",
   "metadata": {},
   "outputs": [
    {
     "data": {
      "text/plain": [
       "(-0.5, 999.5, 999.5, -0.5)"
      ]
     },
     "execution_count": 37,
     "metadata": {},
     "output_type": "execute_result"
    },
    {
     "data": {
      "image/png": "[encoded data removed]",
      "text/plain": [
       "<Figure size 640x480 with 1 Axes>"
      ]
     },
     "metadata": {},
     "output_type": "display_data"
    }
   ],
   "source": [
    "cloud=WordCloud(width=1000,height=1000).generate(train_data)\n",
    "plt.imshow(cloud)\n",
    "plt.axis('off')"
   ]
  },
  {
   "cell_type": "code",
   "execution_count": 38,
   "id": "156c29bd",
   "metadata": {},
   "outputs": [
    {
     "data": {
      "text/plain": [
       "0         What is the step by step guide to invest in sh...\n",
       "1         What is the story of Kohinoor (Koh-i-Noor) Dia...\n",
       "2         How can I increase the speed of my internet co...\n",
       "3         Why am I mentally very lonely? How can I solve...\n",
       "4         Which one dissolve in water quikly sugar, salt...\n",
       "                                ...                        \n",
       "808575    How many keywords are there in PERL Programmin...\n",
       "808576           Is it true that there is life after death?\n",
       "808577                                    What's this coin?\n",
       "808578    I am having little hairfall problem but I want...\n",
       "808579        What is it like to have sex with your cousin?\n",
       "Length: 808580, dtype: object"
      ]
     },
     "execution_count": 38,
     "metadata": {},
     "output_type": "execute_result"
    }
   ],
   "source": [
    "train_qs"
   ]
  },
  {
   "cell_type": "code",
   "execution_count": 39,
   "id": "75943718",
   "metadata": {},
   "outputs": [
    {
     "data": {
      "text/plain": [
       "'What is the step by step guide to invest in share market in india?'"
      ]
     },
     "execution_count": 39,
     "metadata": {},
     "output_type": "execute_result"
    }
   ],
   "source": [
    "train_qs[0]"
   ]
  },
  {
   "cell_type": "code",
   "execution_count": 40,
   "id": "f0de9d13",
   "metadata": {},
   "outputs": [],
   "source": [
    "def find_semantics(x,symbol):\n",
    "    return symbol in x"
   ]
  },
  {
   "cell_type": "code",
   "execution_count": 41,
   "id": "33c02256",
   "metadata": {},
   "outputs": [
    {
     "data": {
      "text/plain": [
       "True"
      ]
     },
     "execution_count": 41,
     "metadata": {},
     "output_type": "execute_result"
    }
   ],
   "source": [
    "find_semantics(train_qs[0],'?')"
   ]
  },
  {
   "cell_type": "code",
   "execution_count": 42,
   "id": "64437bbf",
   "metadata": {},
   "outputs": [
    {
     "data": {
      "text/plain": [
       "True"
      ]
     },
     "execution_count": 42,
     "metadata": {},
     "output_type": "execute_result"
    }
   ],
   "source": [
    "find_semantics(train_qs[5],'?')"
   ]
  },
  {
   "cell_type": "code",
   "execution_count": 43,
   "id": "97fa868d",
   "metadata": {},
   "outputs": [
    {
     "data": {
      "text/plain": [
       "0         True\n",
       "1         True\n",
       "2         True\n",
       "3         True\n",
       "4         True\n",
       "          ... \n",
       "808575    True\n",
       "808576    True\n",
       "808577    True\n",
       "808578    True\n",
       "808579    True\n",
       "Length: 808580, dtype: bool"
      ]
     },
     "execution_count": 43,
     "metadata": {},
     "output_type": "execute_result"
    }
   ],
   "source": [
    "train_qs.apply(find_semantics,args='?')"
   ]
  },
  {
   "cell_type": "code",
   "execution_count": 44,
   "id": "0488270b",
   "metadata": {},
   "outputs": [
    {
     "data": {
      "text/plain": [
       "99.87385292735412"
      ]
     },
     "execution_count": 44,
     "metadata": {},
     "output_type": "execute_result"
    }
   ],
   "source": [
    "np.mean(train_qs.apply(find_semantics,args='?'))*100"
   ]
  },
  {
   "cell_type": "markdown",
   "id": "fabdd0d6",
   "metadata": {},
   "source": [
    "## Frequency of questions id"
   ]
  },
  {
   "cell_type": "code",
   "execution_count": 45,
   "id": "f0d60a51",
   "metadata": {},
   "outputs": [],
   "source": [
    "data=df.copy()"
   ]
  },
  {
   "cell_type": "code",
   "execution_count": 46,
   "id": "6350211e",
   "metadata": {},
   "outputs": [
    {
     "data": {
      "text/html": [
       "<div>\n",
       "<style scoped>\n",
       "    .dataframe tbody tr th:only-of-type {\n",
       "        vertical-align: middle;\n",
       "    }\n",
       "\n",
       "    .dataframe tbody tr th {\n",
       "        vertical-align: top;\n",
       "    }\n",
       "\n",
       "    .dataframe thead th {\n",
       "        text-align: right;\n",
       "    }\n",
       "</style>\n",
       "<table border=\"1\" class=\"dataframe\">\n",
       "  <thead>\n",
       "    <tr style=\"text-align: right;\">\n",
       "      <th></th>\n",
       "      <th>id</th>\n",
       "      <th>qid1</th>\n",
       "      <th>qid2</th>\n",
       "      <th>question1</th>\n",
       "      <th>question2</th>\n",
       "      <th>is_duplicate</th>\n",
       "    </tr>\n",
       "  </thead>\n",
       "  <tbody>\n",
       "    <tr>\n",
       "      <th>0</th>\n",
       "      <td>0</td>\n",
       "      <td>1</td>\n",
       "      <td>2</td>\n",
       "      <td>What is the step by step guide to invest in sh...</td>\n",
       "      <td>What is the step by step guide to invest in sh...</td>\n",
       "      <td>0</td>\n",
       "    </tr>\n",
       "    <tr>\n",
       "      <th>1</th>\n",
       "      <td>1</td>\n",
       "      <td>3</td>\n",
       "      <td>4</td>\n",
       "      <td>What is the story of Kohinoor (Koh-i-Noor) Dia...</td>\n",
       "      <td>What would happen if the Indian government sto...</td>\n",
       "      <td>0</td>\n",
       "    </tr>\n",
       "    <tr>\n",
       "      <th>2</th>\n",
       "      <td>2</td>\n",
       "      <td>5</td>\n",
       "      <td>6</td>\n",
       "      <td>How can I increase the speed of my internet co...</td>\n",
       "      <td>How can Internet speed be increased by hacking...</td>\n",
       "      <td>0</td>\n",
       "    </tr>\n",
       "    <tr>\n",
       "      <th>3</th>\n",
       "      <td>3</td>\n",
       "      <td>7</td>\n",
       "      <td>8</td>\n",
       "      <td>Why am I mentally very lonely? How can I solve...</td>\n",
       "      <td>Find the remainder when [math]23^{24}[/math] i...</td>\n",
       "      <td>0</td>\n",
       "    </tr>\n",
       "    <tr>\n",
       "      <th>4</th>\n",
       "      <td>4</td>\n",
       "      <td>9</td>\n",
       "      <td>10</td>\n",
       "      <td>Which one dissolve in water quikly sugar, salt...</td>\n",
       "      <td>Which fish would survive in salt water?</td>\n",
       "      <td>0</td>\n",
       "    </tr>\n",
       "  </tbody>\n",
       "</table>\n",
       "</div>"
      ],
      "text/plain": [
       "   id  qid1  qid2                                          question1  \\\n",
       "0   0     1     2  What is the step by step guide to invest in sh...   \n",
       "1   1     3     4  What is the story of Kohinoor (Koh-i-Noor) Dia...   \n",
       "2   2     5     6  How can I increase the speed of my internet co...   \n",
       "3   3     7     8  Why am I mentally very lonely? How can I solve...   \n",
       "4   4     9    10  Which one dissolve in water quikly sugar, salt...   \n",
       "\n",
       "                                           question2  is_duplicate  \n",
       "0  What is the step by step guide to invest in sh...             0  \n",
       "1  What would happen if the Indian government sto...             0  \n",
       "2  How can Internet speed be increased by hacking...             0  \n",
       "3  Find the remainder when [math]23^{24}[/math] i...             0  \n",
       "4            Which fish would survive in salt water?             0  "
      ]
     },
     "execution_count": 46,
     "metadata": {},
     "output_type": "execute_result"
    }
   ],
   "source": [
    "data.head()"
   ]
  },
  {
   "cell_type": "code",
   "execution_count": 47,
   "id": "8ac43bf2",
   "metadata": {},
   "outputs": [
    {
     "data": {
      "text/plain": [
       "0              1\n",
       "1              3\n",
       "2              5\n",
       "3              7\n",
       "4              9\n",
       "           ...  \n",
       "404285    433578\n",
       "404286     18840\n",
       "404287    537928\n",
       "404288    537930\n",
       "404289    537932\n",
       "Name: qid1, Length: 404290, dtype: int64"
      ]
     },
     "execution_count": 47,
     "metadata": {},
     "output_type": "execute_result"
    }
   ],
   "source": [
    "df['qid1']"
   ]
  },
  {
   "cell_type": "code",
   "execution_count": 48,
   "id": "45eb2dc1",
   "metadata": {},
   "outputs": [
    {
     "data": {
      "text/plain": [
       "0          1\n",
       "1          4\n",
       "2          1\n",
       "3          1\n",
       "4          3\n",
       "          ..\n",
       "404285     2\n",
       "404286    12\n",
       "404287     1\n",
       "404288     1\n",
       "404289     1\n",
       "Name: freq_id1, Length: 404290, dtype: int64"
      ]
     },
     "execution_count": 48,
     "metadata": {},
     "output_type": "execute_result"
    }
   ],
   "source": [
    "data['freq_id1']=data.groupby('qid1')['qid1'].transform('count')\n",
    "data['freq_id1']"
   ]
  },
  {
   "cell_type": "code",
   "execution_count": 49,
   "id": "a06a54c1",
   "metadata": {},
   "outputs": [
    {
     "data": {
      "text/plain": [
       "0          1\n",
       "1          4\n",
       "2          1\n",
       "3          1\n",
       "4          3\n",
       "          ..\n",
       "404285     2\n",
       "404286    12\n",
       "404287     1\n",
       "404288     1\n",
       "404289     1\n",
       "Name: freq_id1, Length: 404290, dtype: int64"
      ]
     },
     "execution_count": 49,
     "metadata": {},
     "output_type": "execute_result"
    }
   ],
   "source": [
    "df['freq_id1']=df.groupby('qid1')['qid1'].transform('count')\n",
    "df['freq_id1']"
   ]
  },
  {
   "cell_type": "code",
   "execution_count": 50,
   "id": "7af8ba29",
   "metadata": {},
   "outputs": [
    {
     "data": {
      "text/plain": [
       "0              2\n",
       "1              4\n",
       "2              6\n",
       "3              8\n",
       "4             10\n",
       "           ...  \n",
       "404285    379845\n",
       "404286    155606\n",
       "404287    537929\n",
       "404288    537931\n",
       "404289    537933\n",
       "Name: qid2, Length: 404290, dtype: int64"
      ]
     },
     "execution_count": 50,
     "metadata": {},
     "output_type": "execute_result"
    }
   ],
   "source": [
    "data['qid2']"
   ]
  },
  {
   "cell_type": "code",
   "execution_count": 51,
   "id": "81147277",
   "metadata": {},
   "outputs": [
    {
     "data": {
      "text/plain": [
       "0         1\n",
       "1         1\n",
       "2         1\n",
       "3         1\n",
       "4         1\n",
       "         ..\n",
       "404285    2\n",
       "404286    1\n",
       "404287    1\n",
       "404288    1\n",
       "404289    1\n",
       "Name: freq_id2, Length: 404290, dtype: int64"
      ]
     },
     "execution_count": 51,
     "metadata": {},
     "output_type": "execute_result"
    }
   ],
   "source": [
    "data['freq_id2']=data.groupby('qid2')['qid2'].transform('count')\n",
    "data['freq_id2']"
   ]
  },
  {
   "cell_type": "code",
   "execution_count": 52,
   "id": "2dcc6716",
   "metadata": {},
   "outputs": [
    {
     "data": {
      "text/html": [
       "<div>\n",
       "<style scoped>\n",
       "    .dataframe tbody tr th:only-of-type {\n",
       "        vertical-align: middle;\n",
       "    }\n",
       "\n",
       "    .dataframe tbody tr th {\n",
       "        vertical-align: top;\n",
       "    }\n",
       "\n",
       "    .dataframe thead th {\n",
       "        text-align: right;\n",
       "    }\n",
       "</style>\n",
       "<table border=\"1\" class=\"dataframe\">\n",
       "  <thead>\n",
       "    <tr style=\"text-align: right;\">\n",
       "      <th></th>\n",
       "      <th>id</th>\n",
       "      <th>qid1</th>\n",
       "      <th>qid2</th>\n",
       "      <th>question1</th>\n",
       "      <th>question2</th>\n",
       "      <th>is_duplicate</th>\n",
       "      <th>freq_id1</th>\n",
       "      <th>freq_id2</th>\n",
       "    </tr>\n",
       "  </thead>\n",
       "  <tbody>\n",
       "    <tr>\n",
       "      <th>0</th>\n",
       "      <td>0</td>\n",
       "      <td>1</td>\n",
       "      <td>2</td>\n",
       "      <td>What is the step by step guide to invest in sh...</td>\n",
       "      <td>What is the step by step guide to invest in sh...</td>\n",
       "      <td>0</td>\n",
       "      <td>1</td>\n",
       "      <td>1</td>\n",
       "    </tr>\n",
       "    <tr>\n",
       "      <th>1</th>\n",
       "      <td>1</td>\n",
       "      <td>3</td>\n",
       "      <td>4</td>\n",
       "      <td>What is the story of Kohinoor (Koh-i-Noor) Dia...</td>\n",
       "      <td>What would happen if the Indian government sto...</td>\n",
       "      <td>0</td>\n",
       "      <td>4</td>\n",
       "      <td>1</td>\n",
       "    </tr>\n",
       "    <tr>\n",
       "      <th>2</th>\n",
       "      <td>2</td>\n",
       "      <td>5</td>\n",
       "      <td>6</td>\n",
       "      <td>How can I increase the speed of my internet co...</td>\n",
       "      <td>How can Internet speed be increased by hacking...</td>\n",
       "      <td>0</td>\n",
       "      <td>1</td>\n",
       "      <td>1</td>\n",
       "    </tr>\n",
       "    <tr>\n",
       "      <th>3</th>\n",
       "      <td>3</td>\n",
       "      <td>7</td>\n",
       "      <td>8</td>\n",
       "      <td>Why am I mentally very lonely? How can I solve...</td>\n",
       "      <td>Find the remainder when [math]23^{24}[/math] i...</td>\n",
       "      <td>0</td>\n",
       "      <td>1</td>\n",
       "      <td>1</td>\n",
       "    </tr>\n",
       "    <tr>\n",
       "      <th>4</th>\n",
       "      <td>4</td>\n",
       "      <td>9</td>\n",
       "      <td>10</td>\n",
       "      <td>Which one dissolve in water quikly sugar, salt...</td>\n",
       "      <td>Which fish would survive in salt water?</td>\n",
       "      <td>0</td>\n",
       "      <td>3</td>\n",
       "      <td>1</td>\n",
       "    </tr>\n",
       "    <tr>\n",
       "      <th>...</th>\n",
       "      <td>...</td>\n",
       "      <td>...</td>\n",
       "      <td>...</td>\n",
       "      <td>...</td>\n",
       "      <td>...</td>\n",
       "      <td>...</td>\n",
       "      <td>...</td>\n",
       "      <td>...</td>\n",
       "    </tr>\n",
       "    <tr>\n",
       "      <th>404285</th>\n",
       "      <td>404285</td>\n",
       "      <td>433578</td>\n",
       "      <td>379845</td>\n",
       "      <td>How many keywords are there in the Racket prog...</td>\n",
       "      <td>How many keywords are there in PERL Programmin...</td>\n",
       "      <td>0</td>\n",
       "      <td>2</td>\n",
       "      <td>2</td>\n",
       "    </tr>\n",
       "    <tr>\n",
       "      <th>404286</th>\n",
       "      <td>404286</td>\n",
       "      <td>18840</td>\n",
       "      <td>155606</td>\n",
       "      <td>Do you believe there is life after death?</td>\n",
       "      <td>Is it true that there is life after death?</td>\n",
       "      <td>1</td>\n",
       "      <td>12</td>\n",
       "      <td>1</td>\n",
       "    </tr>\n",
       "    <tr>\n",
       "      <th>404287</th>\n",
       "      <td>404287</td>\n",
       "      <td>537928</td>\n",
       "      <td>537929</td>\n",
       "      <td>What is one coin?</td>\n",
       "      <td>What's this coin?</td>\n",
       "      <td>0</td>\n",
       "      <td>1</td>\n",
       "      <td>1</td>\n",
       "    </tr>\n",
       "    <tr>\n",
       "      <th>404288</th>\n",
       "      <td>404288</td>\n",
       "      <td>537930</td>\n",
       "      <td>537931</td>\n",
       "      <td>What is the approx annual cost of living while...</td>\n",
       "      <td>I am having little hairfall problem but I want...</td>\n",
       "      <td>0</td>\n",
       "      <td>1</td>\n",
       "      <td>1</td>\n",
       "    </tr>\n",
       "    <tr>\n",
       "      <th>404289</th>\n",
       "      <td>404289</td>\n",
       "      <td>537932</td>\n",
       "      <td>537933</td>\n",
       "      <td>What is like to have sex with cousin?</td>\n",
       "      <td>What is it like to have sex with your cousin?</td>\n",
       "      <td>0</td>\n",
       "      <td>1</td>\n",
       "      <td>1</td>\n",
       "    </tr>\n",
       "  </tbody>\n",
       "</table>\n",
       "<p>404290 rows × 8 columns</p>\n",
       "</div>"
      ],
      "text/plain": [
       "            id    qid1    qid2  \\\n",
       "0            0       1       2   \n",
       "1            1       3       4   \n",
       "2            2       5       6   \n",
       "3            3       7       8   \n",
       "4            4       9      10   \n",
       "...        ...     ...     ...   \n",
       "404285  404285  433578  379845   \n",
       "404286  404286   18840  155606   \n",
       "404287  404287  537928  537929   \n",
       "404288  404288  537930  537931   \n",
       "404289  404289  537932  537933   \n",
       "\n",
       "                                                question1  \\\n",
       "0       What is the step by step guide to invest in sh...   \n",
       "1       What is the story of Kohinoor (Koh-i-Noor) Dia...   \n",
       "2       How can I increase the speed of my internet co...   \n",
       "3       Why am I mentally very lonely? How can I solve...   \n",
       "4       Which one dissolve in water quikly sugar, salt...   \n",
       "...                                                   ...   \n",
       "404285  How many keywords are there in the Racket prog...   \n",
       "404286          Do you believe there is life after death?   \n",
       "404287                                  What is one coin?   \n",
       "404288  What is the approx annual cost of living while...   \n",
       "404289              What is like to have sex with cousin?   \n",
       "\n",
       "                                                question2  is_duplicate  \\\n",
       "0       What is the step by step guide to invest in sh...             0   \n",
       "1       What would happen if the Indian government sto...             0   \n",
       "2       How can Internet speed be increased by hacking...             0   \n",
       "3       Find the remainder when [math]23^{24}[/math] i...             0   \n",
       "4                 Which fish would survive in salt water?             0   \n",
       "...                                                   ...           ...   \n",
       "404285  How many keywords are there in PERL Programmin...             0   \n",
       "404286         Is it true that there is life after death?             1   \n",
       "404287                                  What's this coin?             0   \n",
       "404288  I am having little hairfall problem but I want...             0   \n",
       "404289      What is it like to have sex with your cousin?             0   \n",
       "\n",
       "        freq_id1  freq_id2  \n",
       "0              1         1  \n",
       "1              4         1  \n",
       "2              1         1  \n",
       "3              1         1  \n",
       "4              3         1  \n",
       "...          ...       ...  \n",
       "404285         2         2  \n",
       "404286        12         1  \n",
       "404287         1         1  \n",
       "404288         1         1  \n",
       "404289         1         1  \n",
       "\n",
       "[404290 rows x 8 columns]"
      ]
     },
     "execution_count": 52,
     "metadata": {},
     "output_type": "execute_result"
    }
   ],
   "source": [
    "data"
   ]
  },
  {
   "cell_type": "code",
   "execution_count": 53,
   "id": "a03babad",
   "metadata": {},
   "outputs": [
    {
     "data": {
      "text/plain": [
       "0         66\n",
       "1         51\n",
       "2         73\n",
       "3         50\n",
       "4         76\n",
       "          ..\n",
       "404285    85\n",
       "404286    41\n",
       "404287    17\n",
       "404288    94\n",
       "404289    37\n",
       "Name: question1, Length: 404290, dtype: int64"
      ]
     },
     "execution_count": 53,
     "metadata": {},
     "output_type": "execute_result"
    }
   ],
   "source": [
    "df['question1'].str.len()"
   ]
  },
  {
   "cell_type": "code",
   "execution_count": 54,
   "id": "8bee67fa",
   "metadata": {},
   "outputs": [
    {
     "data": {
      "text/plain": [
       "'Astrology: I am a Capricorn Sun Cap moon and cap rising...what does that say about me?'"
      ]
     },
     "execution_count": 54,
     "metadata": {},
     "output_type": "execute_result"
    }
   ],
   "source": [
    "df['question1'][5]"
   ]
  },
  {
   "cell_type": "code",
   "execution_count": 55,
   "id": "ff10a0b7",
   "metadata": {},
   "outputs": [
    {
     "data": {
      "text/plain": [
       "86"
      ]
     },
     "execution_count": 55,
     "metadata": {},
     "output_type": "execute_result"
    }
   ],
   "source": [
    "len(df['question1'][5])"
   ]
  },
  {
   "cell_type": "code",
   "execution_count": 56,
   "id": "ef526797",
   "metadata": {},
   "outputs": [
    {
     "data": {
      "text/plain": [
       "['Astrology:',\n",
       " 'I',\n",
       " 'am',\n",
       " 'a',\n",
       " 'Capricorn',\n",
       " 'Sun',\n",
       " 'Cap',\n",
       " 'moon',\n",
       " 'and',\n",
       " 'cap',\n",
       " 'rising...what',\n",
       " 'does',\n",
       " 'that',\n",
       " 'say',\n",
       " 'about',\n",
       " 'me?']"
      ]
     },
     "execution_count": 56,
     "metadata": {},
     "output_type": "execute_result"
    }
   ],
   "source": [
    "df['question1'][5].split(' ')"
   ]
  },
  {
   "cell_type": "code",
   "execution_count": 57,
   "id": "c8d965cf",
   "metadata": {},
   "outputs": [
    {
     "data": {
      "text/plain": [
       "16"
      ]
     },
     "execution_count": 57,
     "metadata": {},
     "output_type": "execute_result"
    }
   ],
   "source": [
    "len(df['question1'][5].split(' '))"
   ]
  },
  {
   "cell_type": "code",
   "execution_count": 58,
   "id": "fd68d679",
   "metadata": {},
   "outputs": [],
   "source": [
    "def word_counts(text):\n",
    "    return len(text.split(' '))"
   ]
  },
  {
   "cell_type": "code",
   "execution_count": 59,
   "id": "e7874a36",
   "metadata": {},
   "outputs": [],
   "source": [
    "df['q1_total_word']=df['question1'].apply(word_counts)"
   ]
  },
  {
   "cell_type": "code",
   "execution_count": 60,
   "id": "e727cbf5",
   "metadata": {},
   "outputs": [],
   "source": [
    "df['q2_total_word']=df['question2'].apply(word_counts)"
   ]
  },
  {
   "cell_type": "code",
   "execution_count": 61,
   "id": "d4b2980e",
   "metadata": {},
   "outputs": [
    {
     "data": {
      "text/html": [
       "<div>\n",
       "<style scoped>\n",
       "    .dataframe tbody tr th:only-of-type {\n",
       "        vertical-align: middle;\n",
       "    }\n",
       "\n",
       "    .dataframe tbody tr th {\n",
       "        vertical-align: top;\n",
       "    }\n",
       "\n",
       "    .dataframe thead th {\n",
       "        text-align: right;\n",
       "    }\n",
       "</style>\n",
       "<table border=\"1\" class=\"dataframe\">\n",
       "  <thead>\n",
       "    <tr style=\"text-align: right;\">\n",
       "      <th></th>\n",
       "      <th>id</th>\n",
       "      <th>qid1</th>\n",
       "      <th>qid2</th>\n",
       "      <th>question1</th>\n",
       "      <th>question2</th>\n",
       "      <th>is_duplicate</th>\n",
       "      <th>freq_id1</th>\n",
       "      <th>q1_total_word</th>\n",
       "      <th>q2_total_word</th>\n",
       "    </tr>\n",
       "  </thead>\n",
       "  <tbody>\n",
       "    <tr>\n",
       "      <th>0</th>\n",
       "      <td>0</td>\n",
       "      <td>1</td>\n",
       "      <td>2</td>\n",
       "      <td>What is the step by step guide to invest in sh...</td>\n",
       "      <td>What is the step by step guide to invest in sh...</td>\n",
       "      <td>0</td>\n",
       "      <td>1</td>\n",
       "      <td>14</td>\n",
       "      <td>12</td>\n",
       "    </tr>\n",
       "    <tr>\n",
       "      <th>1</th>\n",
       "      <td>1</td>\n",
       "      <td>3</td>\n",
       "      <td>4</td>\n",
       "      <td>What is the story of Kohinoor (Koh-i-Noor) Dia...</td>\n",
       "      <td>What would happen if the Indian government sto...</td>\n",
       "      <td>0</td>\n",
       "      <td>4</td>\n",
       "      <td>8</td>\n",
       "      <td>13</td>\n",
       "    </tr>\n",
       "    <tr>\n",
       "      <th>2</th>\n",
       "      <td>2</td>\n",
       "      <td>5</td>\n",
       "      <td>6</td>\n",
       "      <td>How can I increase the speed of my internet co...</td>\n",
       "      <td>How can Internet speed be increased by hacking...</td>\n",
       "      <td>0</td>\n",
       "      <td>1</td>\n",
       "      <td>14</td>\n",
       "      <td>10</td>\n",
       "    </tr>\n",
       "    <tr>\n",
       "      <th>3</th>\n",
       "      <td>3</td>\n",
       "      <td>7</td>\n",
       "      <td>8</td>\n",
       "      <td>Why am I mentally very lonely? How can I solve...</td>\n",
       "      <td>Find the remainder when [math]23^{24}[/math] i...</td>\n",
       "      <td>0</td>\n",
       "      <td>1</td>\n",
       "      <td>11</td>\n",
       "      <td>9</td>\n",
       "    </tr>\n",
       "    <tr>\n",
       "      <th>4</th>\n",
       "      <td>4</td>\n",
       "      <td>9</td>\n",
       "      <td>10</td>\n",
       "      <td>Which one dissolve in water quikly sugar, salt...</td>\n",
       "      <td>Which fish would survive in salt water?</td>\n",
       "      <td>0</td>\n",
       "      <td>3</td>\n",
       "      <td>13</td>\n",
       "      <td>7</td>\n",
       "    </tr>\n",
       "    <tr>\n",
       "      <th>...</th>\n",
       "      <td>...</td>\n",
       "      <td>...</td>\n",
       "      <td>...</td>\n",
       "      <td>...</td>\n",
       "      <td>...</td>\n",
       "      <td>...</td>\n",
       "      <td>...</td>\n",
       "      <td>...</td>\n",
       "      <td>...</td>\n",
       "    </tr>\n",
       "    <tr>\n",
       "      <th>404285</th>\n",
       "      <td>404285</td>\n",
       "      <td>433578</td>\n",
       "      <td>379845</td>\n",
       "      <td>How many keywords are there in the Racket prog...</td>\n",
       "      <td>How many keywords are there in PERL Programmin...</td>\n",
       "      <td>0</td>\n",
       "      <td>2</td>\n",
       "      <td>14</td>\n",
       "      <td>13</td>\n",
       "    </tr>\n",
       "    <tr>\n",
       "      <th>404286</th>\n",
       "      <td>404286</td>\n",
       "      <td>18840</td>\n",
       "      <td>155606</td>\n",
       "      <td>Do you believe there is life after death?</td>\n",
       "      <td>Is it true that there is life after death?</td>\n",
       "      <td>1</td>\n",
       "      <td>12</td>\n",
       "      <td>8</td>\n",
       "      <td>9</td>\n",
       "    </tr>\n",
       "    <tr>\n",
       "      <th>404287</th>\n",
       "      <td>404287</td>\n",
       "      <td>537928</td>\n",
       "      <td>537929</td>\n",
       "      <td>What is one coin?</td>\n",
       "      <td>What's this coin?</td>\n",
       "      <td>0</td>\n",
       "      <td>1</td>\n",
       "      <td>4</td>\n",
       "      <td>3</td>\n",
       "    </tr>\n",
       "    <tr>\n",
       "      <th>404288</th>\n",
       "      <td>404288</td>\n",
       "      <td>537930</td>\n",
       "      <td>537931</td>\n",
       "      <td>What is the approx annual cost of living while...</td>\n",
       "      <td>I am having little hairfall problem but I want...</td>\n",
       "      <td>0</td>\n",
       "      <td>1</td>\n",
       "      <td>17</td>\n",
       "      <td>25</td>\n",
       "    </tr>\n",
       "    <tr>\n",
       "      <th>404289</th>\n",
       "      <td>404289</td>\n",
       "      <td>537932</td>\n",
       "      <td>537933</td>\n",
       "      <td>What is like to have sex with cousin?</td>\n",
       "      <td>What is it like to have sex with your cousin?</td>\n",
       "      <td>0</td>\n",
       "      <td>1</td>\n",
       "      <td>8</td>\n",
       "      <td>10</td>\n",
       "    </tr>\n",
       "  </tbody>\n",
       "</table>\n",
       "<p>404290 rows × 9 columns</p>\n",
       "</div>"
      ],
      "text/plain": [
       "            id    qid1    qid2  \\\n",
       "0            0       1       2   \n",
       "1            1       3       4   \n",
       "2            2       5       6   \n",
       "3            3       7       8   \n",
       "4            4       9      10   \n",
       "...        ...     ...     ...   \n",
       "404285  404285  433578  379845   \n",
       "404286  404286   18840  155606   \n",
       "404287  404287  537928  537929   \n",
       "404288  404288  537930  537931   \n",
       "404289  404289  537932  537933   \n",
       "\n",
       "                                                question1  \\\n",
       "0       What is the step by step guide to invest in sh...   \n",
       "1       What is the story of Kohinoor (Koh-i-Noor) Dia...   \n",
       "2       How can I increase the speed of my internet co...   \n",
       "3       Why am I mentally very lonely? How can I solve...   \n",
       "4       Which one dissolve in water quikly sugar, salt...   \n",
       "...                                                   ...   \n",
       "404285  How many keywords are there in the Racket prog...   \n",
       "404286          Do you believe there is life after death?   \n",
       "404287                                  What is one coin?   \n",
       "404288  What is the approx annual cost of living while...   \n",
       "404289              What is like to have sex with cousin?   \n",
       "\n",
       "                                                question2  is_duplicate  \\\n",
       "0       What is the step by step guide to invest in sh...             0   \n",
       "1       What would happen if the Indian government sto...             0   \n",
       "2       How can Internet speed be increased by hacking...             0   \n",
       "3       Find the remainder when [math]23^{24}[/math] i...             0   \n",
       "4                 Which fish would survive in salt water?             0   \n",
       "...                                                   ...           ...   \n",
       "404285  How many keywords are there in PERL Programmin...             0   \n",
       "404286         Is it true that there is life after death?             1   \n",
       "404287                                  What's this coin?             0   \n",
       "404288  I am having little hairfall problem but I want...             0   \n",
       "404289      What is it like to have sex with your cousin?             0   \n",
       "\n",
       "        freq_id1  q1_total_word  q2_total_word  \n",
       "0              1             14             12  \n",
       "1              4              8             13  \n",
       "2              1             14             10  \n",
       "3              1             11              9  \n",
       "4              3             13              7  \n",
       "...          ...            ...            ...  \n",
       "404285         2             14             13  \n",
       "404286        12              8              9  \n",
       "404287         1              4              3  \n",
       "404288         1             17             25  \n",
       "404289         1              8             10  \n",
       "\n",
       "[404290 rows x 9 columns]"
      ]
     },
     "execution_count": 61,
     "metadata": {},
     "output_type": "execute_result"
    }
   ],
   "source": [
    "df"
   ]
  },
  {
   "cell_type": "code",
   "execution_count": 62,
   "id": "4eaad707",
   "metadata": {},
   "outputs": [
    {
     "data": {
      "text/plain": [
       "'/Users/bibekrai/tensorflow-test/Quora-Analysis'"
      ]
     },
     "execution_count": 62,
     "metadata": {},
     "output_type": "execute_result"
    }
   ],
   "source": [
    "pwd"
   ]
  },
  {
   "cell_type": "code",
   "execution_count": 63,
   "id": "557e65cf",
   "metadata": {},
   "outputs": [],
   "source": [
    "df.to_csv('/Users/bibekrai/tensorflow-test/Quora/feature_data_extraction.csv')"
   ]
  },
  {
   "cell_type": "code",
   "execution_count": 64,
   "id": "8d0e8e69",
   "metadata": {},
   "outputs": [
    {
     "name": "stdout",
     "output_type": "stream",
     "text": [
      "Minimum number of length in question1 is : 1 .\n"
     ]
    }
   ],
   "source": [
    "print('Minimum number of length in question1 is : {} .'.format(df['q1_total_word'].min()))"
   ]
  },
  {
   "cell_type": "code",
   "execution_count": 65,
   "id": "0f9d2f54",
   "metadata": {},
   "outputs": [
    {
     "name": "stdout",
     "output_type": "stream",
     "text": [
      "Minimum number of length in question2 is : 1 .\n"
     ]
    }
   ],
   "source": [
    "print('Minimum number of length in question2 is : {} .'.format(df['q2_total_word'].min()))"
   ]
  },
  {
   "cell_type": "code",
   "execution_count": 66,
   "id": "e7bc9fac",
   "metadata": {},
   "outputs": [
    {
     "name": "stdout",
     "output_type": "stream",
     "text": [
      "Maximum number of length in question1 is : 125 .\n"
     ]
    }
   ],
   "source": [
    "print('Maximum number of length in question1 is : {} .'.format(df['q1_total_word'].max()))"
   ]
  },
  {
   "cell_type": "code",
   "execution_count": 67,
   "id": "ed9a68fc",
   "metadata": {},
   "outputs": [
    {
     "name": "stdout",
     "output_type": "stream",
     "text": [
      "Maximum number of length in question2 is : 237 .\n"
     ]
    }
   ],
   "source": [
    "print('Maximum number of length in question2 is : {} .'.format(df['q2_total_word'].max()))"
   ]
  },
  {
   "cell_type": "code",
   "execution_count": 68,
   "id": "6ecc38e1",
   "metadata": {},
   "outputs": [],
   "source": [
    "df['q1_q2_total_word']=df['q1_total_word']+df['q2_total_word']"
   ]
  },
  {
   "cell_type": "code",
   "execution_count": 69,
   "id": "fa7b711c",
   "metadata": {},
   "outputs": [
    {
     "data": {
      "text/plain": [
       "0         26\n",
       "1         21\n",
       "2         24\n",
       "3         20\n",
       "4         20\n",
       "          ..\n",
       "404285    27\n",
       "404286    17\n",
       "404287     7\n",
       "404288    42\n",
       "404289    18\n",
       "Name: q1_q2_total_word, Length: 404290, dtype: int64"
      ]
     },
     "execution_count": 69,
     "metadata": {},
     "output_type": "execute_result"
    }
   ],
   "source": [
    "df['q1_q2_total_word']"
   ]
  },
  {
   "cell_type": "code",
   "execution_count": 70,
   "id": "efc17aee",
   "metadata": {},
   "outputs": [
    {
     "data": {
      "text/plain": [
       "(array([0.0000e+00, 0.0000e+00, 0.0000e+00, 4.0000e+00, 5.0000e+00,\n",
       "        0.0000e+00, 1.2000e+01, 7.5200e+02, 1.6490e+03, 3.1180e+03,\n",
       "        4.6240e+03, 0.0000e+00, 6.8520e+03, 9.2600e+03, 1.3912e+04,\n",
       "        1.6210e+04, 2.1732e+04, 0.0000e+00, 2.2229e+04, 2.5740e+04,\n",
       "        2.4192e+04, 2.5540e+04, 2.2488e+04, 0.0000e+00, 2.1977e+04,\n",
       "        1.8321e+04, 1.7300e+04, 1.4520e+04, 1.3537e+04, 0.0000e+00,\n",
       "        1.1434e+04, 1.0457e+04, 9.0180e+03, 9.3970e+03, 7.6040e+03,\n",
       "        0.0000e+00, 7.6560e+03, 5.9960e+03, 6.1350e+03, 4.9130e+03,\n",
       "        5.1460e+03, 0.0000e+00, 3.9620e+03, 4.0380e+03, 3.2970e+03,\n",
       "        3.5210e+03, 2.7070e+03, 0.0000e+00, 2.7490e+03, 2.1850e+03,\n",
       "        2.4900e+03, 1.8880e+03, 1.9420e+03, 0.0000e+00, 1.3850e+03,\n",
       "        1.2380e+03, 1.1300e+03, 9.9000e+02, 8.9500e+02, 0.0000e+00,\n",
       "        8.4700e+02, 6.9400e+02, 7.1500e+02, 5.5400e+02, 4.8700e+02,\n",
       "        0.0000e+00, 4.6200e+02, 3.8800e+02, 3.6200e+02, 3.6000e+02,\n",
       "        2.8900e+02, 0.0000e+00, 2.5400e+02, 2.6000e+02, 2.0300e+02,\n",
       "        2.0200e+02, 1.7300e+02, 0.0000e+00, 1.4900e+02, 1.6000e+02,\n",
       "        1.1600e+02, 1.2800e+02, 1.1900e+02, 0.0000e+00, 8.6000e+01,\n",
       "        9.5000e+01, 7.3000e+01, 5.5000e+01, 5.9000e+01, 0.0000e+00,\n",
       "        7.2000e+01, 7.0000e+01, 4.7000e+01, 6.0000e+01, 5.2000e+01,\n",
       "        0.0000e+00, 4.3000e+01, 3.7000e+01, 5.0000e+01, 3.4000e+01,\n",
       "        3.4000e+01, 0.0000e+00, 3.6000e+01, 3.0000e+01, 3.3000e+01,\n",
       "        3.1000e+01, 2.0000e+01, 0.0000e+00, 2.3000e+01, 1.5000e+01,\n",
       "        1.9000e+01, 8.0000e+00, 1.1000e+01, 0.0000e+00, 1.2000e+01,\n",
       "        1.2000e+01, 5.0000e+00, 5.0000e+00, 6.0000e+00, 7.0000e+00]),\n",
       " array([  0.        ,   0.83333333,   1.66666667,   2.5       ,\n",
       "          3.33333333,   4.16666667,   5.        ,   5.83333333,\n",
       "          6.66666667,   7.5       ,   8.33333333,   9.16666667,\n",
       "         10.        ,  10.83333333,  11.66666667,  12.5       ,\n",
       "         13.33333333,  14.16666667,  15.        ,  15.83333333,\n",
       "         16.66666667,  17.5       ,  18.33333333,  19.16666667,\n",
       "         20.        ,  20.83333333,  21.66666667,  22.5       ,\n",
       "         23.33333333,  24.16666667,  25.        ,  25.83333333,\n",
       "         26.66666667,  27.5       ,  28.33333333,  29.16666667,\n",
       "         30.        ,  30.83333333,  31.66666667,  32.5       ,\n",
       "         33.33333333,  34.16666667,  35.        ,  35.83333333,\n",
       "         36.66666667,  37.5       ,  38.33333333,  39.16666667,\n",
       "         40.        ,  40.83333333,  41.66666667,  42.5       ,\n",
       "         43.33333333,  44.16666667,  45.        ,  45.83333333,\n",
       "         46.66666667,  47.5       ,  48.33333333,  49.16666667,\n",
       "         50.        ,  50.83333333,  51.66666667,  52.5       ,\n",
       "         53.33333333,  54.16666667,  55.        ,  55.83333333,\n",
       "         56.66666667,  57.5       ,  58.33333333,  59.16666667,\n",
       "         60.        ,  60.83333333,  61.66666667,  62.5       ,\n",
       "         63.33333333,  64.16666667,  65.        ,  65.83333333,\n",
       "         66.66666667,  67.5       ,  68.33333333,  69.16666667,\n",
       "         70.        ,  70.83333333,  71.66666667,  72.5       ,\n",
       "         73.33333333,  74.16666667,  75.        ,  75.83333333,\n",
       "         76.66666667,  77.5       ,  78.33333333,  79.16666667,\n",
       "         80.        ,  80.83333333,  81.66666667,  82.5       ,\n",
       "         83.33333333,  84.16666667,  85.        ,  85.83333333,\n",
       "         86.66666667,  87.5       ,  88.33333333,  89.16666667,\n",
       "         90.        ,  90.83333333,  91.66666667,  92.5       ,\n",
       "         93.33333333,  94.16666667,  95.        ,  95.83333333,\n",
       "         96.66666667,  97.5       ,  98.33333333,  99.16666667,\n",
       "        100.        ]),\n",
       " <BarContainer object of 120 artists>)"
      ]
     },
     "execution_count": 70,
     "metadata": {},
     "output_type": "execute_result"
    },
    {
     "data": {
      "image/png": "[encoded data removed]",
      "text/plain": [
       "<Figure size 640x480 with 1 Axes>"
      ]
     },
     "metadata": {},
     "output_type": "display_data"
    }
   ],
   "source": [
    "plt.hist(df['q1_q2_total_word'],range=[0,100],bins=120)"
   ]
  },
  {
   "cell_type": "code",
   "execution_count": 71,
   "id": "68533836",
   "metadata": {},
   "outputs": [
    {
     "data": {
      "text/plain": [
       "Int64Index([  4262,   4303,   4499,   5064,   5367,   7024,   7337,   9576,\n",
       "              9822,  10446,\n",
       "            ...\n",
       "            380914, 383453, 386713, 389044, 390332, 393029, 394728, 395644,\n",
       "            395668, 396172],\n",
       "           dtype='int64', length=309)"
      ]
     },
     "execution_count": 71,
     "metadata": {},
     "output_type": "execute_result"
    }
   ],
   "source": [
    "data[data['question1'].str.contains('₹')].index"
   ]
  },
  {
   "cell_type": "code",
   "execution_count": 72,
   "id": "a8d058cb",
   "metadata": {},
   "outputs": [
    {
     "data": {
      "text/plain": [
       "'How will demonetization of \\u200e₹1000 and \\u200e₹500 notes will help curb the rampant black currency in India?'"
      ]
     },
     "execution_count": 72,
     "metadata": {},
     "output_type": "execute_result"
    }
   ],
   "source": [
    "data['question1'][4262]"
   ]
  },
  {
   "cell_type": "code",
   "execution_count": 73,
   "id": "92cf4f78",
   "metadata": {},
   "outputs": [
    {
     "data": {
      "text/plain": [
       "'How will demonetization of \\u200eruppes1000 and \\u200eruppes500 notes will help curb the rampant black currency in India?'"
      ]
     },
     "execution_count": 73,
     "metadata": {},
     "output_type": "execute_result"
    }
   ],
   "source": [
    "data['question1'][4262].replace('₹','ruppes')"
   ]
  },
  {
   "cell_type": "code",
   "execution_count": 74,
   "id": "301a1ee3",
   "metadata": {},
   "outputs": [
    {
     "data": {
      "text/plain": [
       "'What is the story of Kohinoor (Koh-i-Noor) Diamond?'"
      ]
     },
     "execution_count": 74,
     "metadata": {},
     "output_type": "execute_result"
    }
   ],
   "source": [
    "data['question1'][1]"
   ]
  },
  {
   "cell_type": "code",
   "execution_count": 75,
   "id": "d6794eaf",
   "metadata": {},
   "outputs": [
    {
     "data": {
      "text/plain": [
       "0         What is the step by step guide to invest in sh...\n",
       "1         What is the story of Kohinoor (Koh-i-Noor) Dia...\n",
       "2         How can I increase the speed of my internet co...\n",
       "3         Why am I mentally very lonely? How can I solve...\n",
       "4         Which one dissolve in water quikly sugar, salt...\n",
       "                                ...                        \n",
       "404285    How many keywords are there in the Racket prog...\n",
       "404286            Do you believe there is life after death?\n",
       "404287                                    What is one coin?\n",
       "404288    What is the approx annual cost of living while...\n",
       "404289                What is like to have sex with cousin?\n",
       "Name: question1, Length: 404290, dtype: object"
      ]
     },
     "execution_count": 75,
     "metadata": {},
     "output_type": "execute_result"
    }
   ],
   "source": [
    "data['question1'].str.strip()\n",
    "data['question1']"
   ]
  },
  {
   "cell_type": "code",
   "execution_count": 76,
   "id": "abe9e2d5",
   "metadata": {},
   "outputs": [
    {
     "data": {
      "text/plain": [
       "'What is the story of Kohinoor (Koh-i-Noor) Diamond?'"
      ]
     },
     "execution_count": 76,
     "metadata": {},
     "output_type": "execute_result"
    }
   ],
   "source": [
    "data['question1'][1]"
   ]
  },
  {
   "cell_type": "code",
   "execution_count": 77,
   "id": "31033c8d",
   "metadata": {},
   "outputs": [],
   "source": [
    "#string matching using fuzzywuzzy"
   ]
  },
  {
   "cell_type": "code",
   "execution_count": 78,
   "id": "722b6f4b",
   "metadata": {},
   "outputs": [
    {
     "name": "stdout",
     "output_type": "stream",
     "text": [
      "Requirement already satisfied: fuzzywuzzy in /Users/bibekrai/tensorflow-test/env/lib/python3.10/site-packages (0.18.0)\n",
      "Note: you may need to restart the kernel to use updated packages.\n"
     ]
    }
   ],
   "source": [
    "pip install fuzzywuzzy"
   ]
  },
  {
   "cell_type": "code",
   "execution_count": 79,
   "id": "523e54ee",
   "metadata": {},
   "outputs": [],
   "source": [
    "from fuzzywuzzy import fuzz\n",
    "from fuzzywuzzy import process"
   ]
  },
  {
   "cell_type": "code",
   "execution_count": 80,
   "id": "ed471ec8",
   "metadata": {},
   "outputs": [
    {
     "data": {
      "text/plain": [
       "'What is the step by step guide to invest in share market in india?'"
      ]
     },
     "execution_count": 80,
     "metadata": {},
     "output_type": "execute_result"
    }
   ],
   "source": [
    "data['question1'][0]"
   ]
  },
  {
   "cell_type": "code",
   "execution_count": 81,
   "id": "be27d12c",
   "metadata": {},
   "outputs": [
    {
     "data": {
      "text/plain": [
       "'What is the step by step guide to invest in share market?'"
      ]
     },
     "execution_count": 81,
     "metadata": {},
     "output_type": "execute_result"
    }
   ],
   "source": [
    "data['question2'][0]"
   ]
  },
  {
   "cell_type": "code",
   "execution_count": 82,
   "id": "c92bde6c",
   "metadata": {},
   "outputs": [
    {
     "data": {
      "text/plain": [
       "93"
      ]
     },
     "execution_count": 82,
     "metadata": {},
     "output_type": "execute_result"
    }
   ],
   "source": [
    "fuzz.ratio(data['question1'][0],data['question2'][0])"
   ]
  },
  {
   "cell_type": "markdown",
   "id": "b5ddd8f6",
   "metadata": {},
   "source": [
    "**Above observation**\\\n",
    "we found out the string matching ratio between two string is 93.\n"
   ]
  },
  {
   "cell_type": "code",
   "execution_count": 83,
   "id": "78ffd5bd",
   "metadata": {},
   "outputs": [],
   "source": [
    "def fuzz_ratio(row):\n",
    "    return fuzz.ratio(row['question1'],row['question2'])"
   ]
  },
  {
   "cell_type": "code",
   "execution_count": 84,
   "id": "0f37c6a5",
   "metadata": {},
   "outputs": [],
   "source": [
    "data['fuzz ratio']=data.apply(fuzz_ratio,axis=1)"
   ]
  },
  {
   "cell_type": "code",
   "execution_count": 85,
   "id": "cc6991fa",
   "metadata": {},
   "outputs": [
    {
     "data": {
      "text/html": [
       "<div>\n",
       "<style scoped>\n",
       "    .dataframe tbody tr th:only-of-type {\n",
       "        vertical-align: middle;\n",
       "    }\n",
       "\n",
       "    .dataframe tbody tr th {\n",
       "        vertical-align: top;\n",
       "    }\n",
       "\n",
       "    .dataframe thead th {\n",
       "        text-align: right;\n",
       "    }\n",
       "</style>\n",
       "<table border=\"1\" class=\"dataframe\">\n",
       "  <thead>\n",
       "    <tr style=\"text-align: right;\">\n",
       "      <th></th>\n",
       "      <th>id</th>\n",
       "      <th>qid1</th>\n",
       "      <th>qid2</th>\n",
       "      <th>question1</th>\n",
       "      <th>question2</th>\n",
       "      <th>is_duplicate</th>\n",
       "      <th>freq_id1</th>\n",
       "      <th>freq_id2</th>\n",
       "      <th>fuzz ratio</th>\n",
       "    </tr>\n",
       "  </thead>\n",
       "  <tbody>\n",
       "    <tr>\n",
       "      <th>0</th>\n",
       "      <td>0</td>\n",
       "      <td>1</td>\n",
       "      <td>2</td>\n",
       "      <td>What is the step by step guide to invest in sh...</td>\n",
       "      <td>What is the step by step guide to invest in sh...</td>\n",
       "      <td>0</td>\n",
       "      <td>1</td>\n",
       "      <td>1</td>\n",
       "      <td>93</td>\n",
       "    </tr>\n",
       "    <tr>\n",
       "      <th>1</th>\n",
       "      <td>1</td>\n",
       "      <td>3</td>\n",
       "      <td>4</td>\n",
       "      <td>What is the story of Kohinoor (Koh-i-Noor) Dia...</td>\n",
       "      <td>What would happen if the Indian government sto...</td>\n",
       "      <td>0</td>\n",
       "      <td>4</td>\n",
       "      <td>1</td>\n",
       "      <td>65</td>\n",
       "    </tr>\n",
       "    <tr>\n",
       "      <th>2</th>\n",
       "      <td>2</td>\n",
       "      <td>5</td>\n",
       "      <td>6</td>\n",
       "      <td>How can I increase the speed of my internet co...</td>\n",
       "      <td>How can Internet speed be increased by hacking...</td>\n",
       "      <td>0</td>\n",
       "      <td>1</td>\n",
       "      <td>1</td>\n",
       "      <td>45</td>\n",
       "    </tr>\n",
       "    <tr>\n",
       "      <th>3</th>\n",
       "      <td>3</td>\n",
       "      <td>7</td>\n",
       "      <td>8</td>\n",
       "      <td>Why am I mentally very lonely? How can I solve...</td>\n",
       "      <td>Find the remainder when [math]23^{24}[/math] i...</td>\n",
       "      <td>0</td>\n",
       "      <td>1</td>\n",
       "      <td>1</td>\n",
       "      <td>7</td>\n",
       "    </tr>\n",
       "    <tr>\n",
       "      <th>4</th>\n",
       "      <td>4</td>\n",
       "      <td>9</td>\n",
       "      <td>10</td>\n",
       "      <td>Which one dissolve in water quikly sugar, salt...</td>\n",
       "      <td>Which fish would survive in salt water?</td>\n",
       "      <td>0</td>\n",
       "      <td>3</td>\n",
       "      <td>1</td>\n",
       "      <td>37</td>\n",
       "    </tr>\n",
       "  </tbody>\n",
       "</table>\n",
       "</div>"
      ],
      "text/plain": [
       "   id  qid1  qid2                                          question1  \\\n",
       "0   0     1     2  What is the step by step guide to invest in sh...   \n",
       "1   1     3     4  What is the story of Kohinoor (Koh-i-Noor) Dia...   \n",
       "2   2     5     6  How can I increase the speed of my internet co...   \n",
       "3   3     7     8  Why am I mentally very lonely? How can I solve...   \n",
       "4   4     9    10  Which one dissolve in water quikly sugar, salt...   \n",
       "\n",
       "                                           question2  is_duplicate  freq_id1  \\\n",
       "0  What is the step by step guide to invest in sh...             0         1   \n",
       "1  What would happen if the Indian government sto...             0         4   \n",
       "2  How can Internet speed be increased by hacking...             0         1   \n",
       "3  Find the remainder when [math]23^{24}[/math] i...             0         1   \n",
       "4            Which fish would survive in salt water?             0         3   \n",
       "\n",
       "   freq_id2  fuzz ratio  \n",
       "0         1          93  \n",
       "1         1          65  \n",
       "2         1          45  \n",
       "3         1           7  \n",
       "4         1          37  "
      ]
     },
     "execution_count": 85,
     "metadata": {},
     "output_type": "execute_result"
    }
   ],
   "source": [
    "data.head()"
   ]
  },
  {
   "cell_type": "code",
   "execution_count": 86,
   "id": "7d93385d",
   "metadata": {},
   "outputs": [
    {
     "data": {
      "text/plain": [
       "98"
      ]
     },
     "execution_count": 86,
     "metadata": {},
     "output_type": "execute_result"
    }
   ],
   "source": [
    "fuzz.partial_ratio(data['question1'][0],data['question2'][0])"
   ]
  },
  {
   "cell_type": "code",
   "execution_count": 93,
   "id": "01ea248e",
   "metadata": {},
   "outputs": [
    {
     "data": {
      "text/plain": [
       "93"
      ]
     },
     "execution_count": 93,
     "metadata": {},
     "output_type": "execute_result"
    }
   ],
   "source": [
    "fuzz.token_sort_ratio(data['question1'][0],data['question2'][0])"
   ]
  },
  {
   "cell_type": "code",
   "execution_count": 94,
   "id": "34ceed90",
   "metadata": {},
   "outputs": [
    {
     "data": {
      "text/plain": [
       "44"
      ]
     },
     "execution_count": 94,
     "metadata": {},
     "output_type": "execute_result"
    }
   ],
   "source": [
    "fuzz.partial_ratio('Nepal vs America','America vs Nepal')"
   ]
  },
  {
   "cell_type": "code",
   "execution_count": 96,
   "id": "e7415818",
   "metadata": {},
   "outputs": [
    {
     "data": {
      "text/plain": [
       "100"
      ]
     },
     "execution_count": 96,
     "metadata": {},
     "output_type": "execute_result"
    }
   ],
   "source": [
    "fuzz.token_sort_ratio('Nepal vs America','America vs Nepal')"
   ]
  },
  {
   "cell_type": "code",
   "execution_count": null,
   "id": "08e31f58",
   "metadata": {},
   "outputs": [],
   "source": []
  }
 ],
 "metadata": {
  "kernelspec": {
   "display_name": "Python 3 (ipykernel)",
   "language": "python",
   "name": "python3"
  },
  "language_info": {
   "codemirror_mode": {
    "name": "ipython",
    "version": 3
   },
   "file_extension": ".py",
   "mimetype": "text/x-python",
   "name": "python",
   "nbconvert_exporter": "python",
   "pygments_lexer": "ipython3",
   "version": "3.10.6"
  }
 },
 "nbformat": 4,
 "nbformat_minor": 5
}
