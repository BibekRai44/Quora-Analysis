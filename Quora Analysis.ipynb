{
 "cells": [
  {
   "cell_type": "code",
   "execution_count": 1,
   "id": "3f78f8f2",
   "metadata": {},
   "outputs": [],
   "source": [
    "#importing necessery libraries\n",
    "\n",
    "import numpy as np\n",
    "import pandas as pd\n",
    "from matplotlib import pyplot as plt\n",
    "%matplotlib inline\n",
    "import warnings\n",
    "warnings.filterwarnings('ignore')\n",
    "import seaborn as sns\n"
   ]
  },
  {
   "cell_type": "code",
   "execution_count": 2,
   "id": "98270d9b",
   "metadata": {},
   "outputs": [
    {
     "data": {
      "text/html": [
       "<div>\n",
       "<style scoped>\n",
       "    .dataframe tbody tr th:only-of-type {\n",
       "        vertical-align: middle;\n",
       "    }\n",
       "\n",
       "    .dataframe tbody tr th {\n",
       "        vertical-align: top;\n",
       "    }\n",
       "\n",
       "    .dataframe thead th {\n",
       "        text-align: right;\n",
       "    }\n",
       "</style>\n",
       "<table border=\"1\" class=\"dataframe\">\n",
       "  <thead>\n",
       "    <tr style=\"text-align: right;\">\n",
       "      <th></th>\n",
       "      <th>id</th>\n",
       "      <th>qid1</th>\n",
       "      <th>qid2</th>\n",
       "      <th>question1</th>\n",
       "      <th>question2</th>\n",
       "      <th>is_duplicate</th>\n",
       "    </tr>\n",
       "  </thead>\n",
       "  <tbody>\n",
       "    <tr>\n",
       "      <th>0</th>\n",
       "      <td>0</td>\n",
       "      <td>1</td>\n",
       "      <td>2</td>\n",
       "      <td>What is the step by step guide to invest in sh...</td>\n",
       "      <td>What is the step by step guide to invest in sh...</td>\n",
       "      <td>0</td>\n",
       "    </tr>\n",
       "    <tr>\n",
       "      <th>1</th>\n",
       "      <td>1</td>\n",
       "      <td>3</td>\n",
       "      <td>4</td>\n",
       "      <td>What is the story of Kohinoor (Koh-i-Noor) Dia...</td>\n",
       "      <td>What would happen if the Indian government sto...</td>\n",
       "      <td>0</td>\n",
       "    </tr>\n",
       "    <tr>\n",
       "      <th>2</th>\n",
       "      <td>2</td>\n",
       "      <td>5</td>\n",
       "      <td>6</td>\n",
       "      <td>How can I increase the speed of my internet co...</td>\n",
       "      <td>How can Internet speed be increased by hacking...</td>\n",
       "      <td>0</td>\n",
       "    </tr>\n",
       "    <tr>\n",
       "      <th>3</th>\n",
       "      <td>3</td>\n",
       "      <td>7</td>\n",
       "      <td>8</td>\n",
       "      <td>Why am I mentally very lonely? How can I solve...</td>\n",
       "      <td>Find the remainder when [math]23^{24}[/math] i...</td>\n",
       "      <td>0</td>\n",
       "    </tr>\n",
       "    <tr>\n",
       "      <th>4</th>\n",
       "      <td>4</td>\n",
       "      <td>9</td>\n",
       "      <td>10</td>\n",
       "      <td>Which one dissolve in water quikly sugar, salt...</td>\n",
       "      <td>Which fish would survive in salt water?</td>\n",
       "      <td>0</td>\n",
       "    </tr>\n",
       "  </tbody>\n",
       "</table>\n",
       "</div>"
      ],
      "text/plain": [
       "   id  qid1  qid2                                          question1  \\\n",
       "0   0     1     2  What is the step by step guide to invest in sh...   \n",
       "1   1     3     4  What is the story of Kohinoor (Koh-i-Noor) Dia...   \n",
       "2   2     5     6  How can I increase the speed of my internet co...   \n",
       "3   3     7     8  Why am I mentally very lonely? How can I solve...   \n",
       "4   4     9    10  Which one dissolve in water quikly sugar, salt...   \n",
       "\n",
       "                                           question2  is_duplicate  \n",
       "0  What is the step by step guide to invest in sh...             0  \n",
       "1  What would happen if the Indian government sto...             0  \n",
       "2  How can Internet speed be increased by hacking...             0  \n",
       "3  Find the remainder when [math]23^{24}[/math] i...             0  \n",
       "4            Which fish would survive in salt water?             0  "
      ]
     },
     "execution_count": 2,
     "metadata": {},
     "output_type": "execute_result"
    }
   ],
   "source": [
    "#reading dataset\n",
    "df=pd.read_csv('/Users/bibekrai/tensorflow-test/Quora/train.csv')\n",
    "df.head()"
   ]
  },
  {
   "cell_type": "markdown",
   "id": "5de5db98",
   "metadata": {},
   "source": [
    "## Basic EDA\n"
   ]
  },
  {
   "cell_type": "code",
   "execution_count": 3,
   "id": "4d593f67",
   "metadata": {},
   "outputs": [
    {
     "name": "stdout",
     "output_type": "stream",
     "text": [
      "<class 'pandas.core.frame.DataFrame'>\n",
      "RangeIndex: 404290 entries, 0 to 404289\n",
      "Data columns (total 6 columns):\n",
      " #   Column        Non-Null Count   Dtype \n",
      "---  ------        --------------   ----- \n",
      " 0   id            404290 non-null  int64 \n",
      " 1   qid1          404290 non-null  int64 \n",
      " 2   qid2          404290 non-null  int64 \n",
      " 3   question1     404289 non-null  object\n",
      " 4   question2     404288 non-null  object\n",
      " 5   is_duplicate  404290 non-null  int64 \n",
      "dtypes: int64(4), object(2)\n",
      "memory usage: 18.5+ MB\n"
     ]
    }
   ],
   "source": [
    "df.info()"
   ]
  },
  {
   "cell_type": "code",
   "execution_count": 6,
   "id": "d13cbb98",
   "metadata": {},
   "outputs": [
    {
     "data": {
      "text/plain": [
       "Index(['id', 'qid1', 'qid2', 'question1', 'question2', 'is_duplicate'], dtype='object')"
      ]
     },
     "execution_count": 6,
     "metadata": {},
     "output_type": "execute_result"
    }
   ],
   "source": [
    "df.columns"
   ]
  },
  {
   "cell_type": "code",
   "execution_count": 7,
   "id": "f209be52",
   "metadata": {},
   "outputs": [
    {
     "data": {
      "text/html": [
       "<div>\n",
       "<style scoped>\n",
       "    .dataframe tbody tr th:only-of-type {\n",
       "        vertical-align: middle;\n",
       "    }\n",
       "\n",
       "    .dataframe tbody tr th {\n",
       "        vertical-align: top;\n",
       "    }\n",
       "\n",
       "    .dataframe thead th {\n",
       "        text-align: right;\n",
       "    }\n",
       "</style>\n",
       "<table border=\"1\" class=\"dataframe\">\n",
       "  <thead>\n",
       "    <tr style=\"text-align: right;\">\n",
       "      <th></th>\n",
       "      <th>id</th>\n",
       "      <th>qid1</th>\n",
       "      <th>qid2</th>\n",
       "      <th>is_duplicate</th>\n",
       "    </tr>\n",
       "  </thead>\n",
       "  <tbody>\n",
       "    <tr>\n",
       "      <th>count</th>\n",
       "      <td>404290.000000</td>\n",
       "      <td>404290.000000</td>\n",
       "      <td>404290.000000</td>\n",
       "      <td>404290.000000</td>\n",
       "    </tr>\n",
       "    <tr>\n",
       "      <th>mean</th>\n",
       "      <td>202144.500000</td>\n",
       "      <td>217243.942418</td>\n",
       "      <td>220955.655337</td>\n",
       "      <td>0.369198</td>\n",
       "    </tr>\n",
       "    <tr>\n",
       "      <th>std</th>\n",
       "      <td>116708.614503</td>\n",
       "      <td>157751.700002</td>\n",
       "      <td>159903.182629</td>\n",
       "      <td>0.482588</td>\n",
       "    </tr>\n",
       "    <tr>\n",
       "      <th>min</th>\n",
       "      <td>0.000000</td>\n",
       "      <td>1.000000</td>\n",
       "      <td>2.000000</td>\n",
       "      <td>0.000000</td>\n",
       "    </tr>\n",
       "    <tr>\n",
       "      <th>25%</th>\n",
       "      <td>101072.250000</td>\n",
       "      <td>74437.500000</td>\n",
       "      <td>74727.000000</td>\n",
       "      <td>0.000000</td>\n",
       "    </tr>\n",
       "    <tr>\n",
       "      <th>50%</th>\n",
       "      <td>202144.500000</td>\n",
       "      <td>192182.000000</td>\n",
       "      <td>197052.000000</td>\n",
       "      <td>0.000000</td>\n",
       "    </tr>\n",
       "    <tr>\n",
       "      <th>75%</th>\n",
       "      <td>303216.750000</td>\n",
       "      <td>346573.500000</td>\n",
       "      <td>354692.500000</td>\n",
       "      <td>1.000000</td>\n",
       "    </tr>\n",
       "    <tr>\n",
       "      <th>max</th>\n",
       "      <td>404289.000000</td>\n",
       "      <td>537932.000000</td>\n",
       "      <td>537933.000000</td>\n",
       "      <td>1.000000</td>\n",
       "    </tr>\n",
       "  </tbody>\n",
       "</table>\n",
       "</div>"
      ],
      "text/plain": [
       "                  id           qid1           qid2   is_duplicate\n",
       "count  404290.000000  404290.000000  404290.000000  404290.000000\n",
       "mean   202144.500000  217243.942418  220955.655337       0.369198\n",
       "std    116708.614503  157751.700002  159903.182629       0.482588\n",
       "min         0.000000       1.000000       2.000000       0.000000\n",
       "25%    101072.250000   74437.500000   74727.000000       0.000000\n",
       "50%    202144.500000  192182.000000  197052.000000       0.000000\n",
       "75%    303216.750000  346573.500000  354692.500000       1.000000\n",
       "max    404289.000000  537932.000000  537933.000000       1.000000"
      ]
     },
     "execution_count": 7,
     "metadata": {},
     "output_type": "execute_result"
    }
   ],
   "source": [
    "df.describe()"
   ]
  },
  {
   "cell_type": "code",
   "execution_count": 8,
   "id": "4ba2c84c",
   "metadata": {},
   "outputs": [
    {
     "data": {
      "text/plain": [
       "id      qid1    qid2    question1                                                                              question2                                                                                                                                           is_duplicate\n",
       "0       1       2       What is the step by step guide to invest in share market in india?                     What is the step by step guide to invest in share market?                                                                                           0               1\n",
       "269534  387254  387255  What is a good book about design?                                                      What are the best books about designing for emotion?                                                                                                0               1\n",
       "269532  387250  387251  Is \"A Head Full of Dreams\" going to be Coldplay's last album?                          What is the song \"A head full of dreams\" by Coldplay about?                                                                                         0               1\n",
       "269531  188813  229100  How do you get rid of 'super lice'?                                                    How can girls get rid of lice and nits?                                                                                                             1               1\n",
       "269530  333156  305679  Why do people fall in love with physical appearance?                                   How do I know if I am ugly to most people?                                                                                                          0               1\n",
       "                                                                                                                                                                                                                                                                                  ..\n",
       "134761  215329  215330  Would I get my CoCubes money back upon cancelling?                                     Typically how often a customer visits a retail store?                                                                                               0               1\n",
       "134760  215327  215328  Where can I find a list of master thesis topics for supply chain management?           How do I define a master thesis topic in the area of Project and innovation Management?                                                             0               1\n",
       "134759  215325  215326  Would large quantities of dry ice be helpful in smothering forest fires / bush fires?  How can forest fires have a positive effect?                                                                                                        0               1\n",
       "134758  215323  215324  Which after market exhaust is best for Bajaj Avenger 150 street?                       I feel useless because despite of being a college & school topper I am unable to work .fall ill a lot, computer causes dry eyes.how can I improve?  0               1\n",
       "404289  537932  537933  What is like to have sex with cousin?                                                  What is it like to have sex with your cousin?                                                                                                       0               1\n",
       "Length: 404287, dtype: int64"
      ]
     },
     "execution_count": 8,
     "metadata": {},
     "output_type": "execute_result"
    }
   ],
   "source": [
    "df.value_counts()"
   ]
  },
  {
   "cell_type": "code",
   "execution_count": 12,
   "id": "920eba5e",
   "metadata": {},
   "outputs": [
    {
     "data": {
      "text/plain": [
       "id               int64\n",
       "qid1             int64\n",
       "qid2             int64\n",
       "question1       object\n",
       "question2       object\n",
       "is_duplicate     int64\n",
       "dtype: object"
      ]
     },
     "execution_count": 12,
     "metadata": {},
     "output_type": "execute_result"
    }
   ],
   "source": [
    "df.dtypes"
   ]
  },
  {
   "cell_type": "code",
   "execution_count": 16,
   "id": "8909fe02",
   "metadata": {},
   "outputs": [
    {
     "data": {
      "text/plain": [
       "(404290, 6)"
      ]
     },
     "execution_count": 16,
     "metadata": {},
     "output_type": "execute_result"
    }
   ],
   "source": [
    "df.shape"
   ]
  },
  {
   "cell_type": "code",
   "execution_count": 17,
   "id": "17a5085c",
   "metadata": {},
   "outputs": [
    {
     "data": {
      "text/plain": [
       "0    255027\n",
       "1    149263\n",
       "Name: is_duplicate, dtype: int64"
      ]
     },
     "execution_count": 17,
     "metadata": {},
     "output_type": "execute_result"
    }
   ],
   "source": [
    "df['is_duplicate'].value_counts()"
   ]
  },
  {
   "cell_type": "code",
   "execution_count": 18,
   "id": "1f4f6e49",
   "metadata": {},
   "outputs": [
    {
     "data": {
      "text/plain": [
       "404290"
      ]
     },
     "execution_count": 18,
     "metadata": {},
     "output_type": "execute_result"
    }
   ],
   "source": [
    "len(df)"
   ]
  },
  {
   "cell_type": "code",
   "execution_count": 19,
   "id": "70c9a19c",
   "metadata": {},
   "outputs": [
    {
     "data": {
      "text/plain": [
       "0    63.080215\n",
       "1    36.919785\n",
       "Name: is_duplicate, dtype: float64"
      ]
     },
     "execution_count": 19,
     "metadata": {},
     "output_type": "execute_result"
    }
   ],
   "source": [
    "(df['is_duplicate'].value_counts()/len(df))*100"
   ]
  },
  {
   "cell_type": "markdown",
   "id": "b36e3c80",
   "metadata": {},
   "source": [
    "## Findings unique questions in dataset"
   ]
  },
  {
   "cell_type": "code",
   "execution_count": 20,
   "id": "45350fba",
   "metadata": {},
   "outputs": [],
   "source": [
    "l1=df['qid1'].tolist()"
   ]
  },
  {
   "cell_type": "code",
   "execution_count": 21,
   "id": "ab625511",
   "metadata": {},
   "outputs": [],
   "source": [
    "l2=df['qid2'].tolist()"
   ]
  },
  {
   "cell_type": "code",
   "execution_count": 22,
   "id": "733e2254",
   "metadata": {},
   "outputs": [
    {
     "data": {
      "text/plain": [
       "808580"
      ]
     },
     "execution_count": 22,
     "metadata": {},
     "output_type": "execute_result"
    }
   ],
   "source": [
    "len(l1+l2)"
   ]
  },
  {
   "cell_type": "code",
   "execution_count": 25,
   "id": "16d74173",
   "metadata": {},
   "outputs": [
    {
     "data": {
      "text/plain": [
       "0              1\n",
       "1              3\n",
       "2              5\n",
       "3              7\n",
       "4              9\n",
       "           ...  \n",
       "808575    379845\n",
       "808576    155606\n",
       "808577    537929\n",
       "808578    537931\n",
       "808579    537933\n",
       "Length: 808580, dtype: int64"
      ]
     },
     "execution_count": 25,
     "metadata": {},
     "output_type": "execute_result"
    }
   ],
   "source": [
    "qids=pd.Series(l1+l2)\n",
    "qids"
   ]
  },
  {
   "cell_type": "code",
   "execution_count": 29,
   "id": "08377f20",
   "metadata": {},
   "outputs": [
    {
     "data": {
      "text/plain": [
       "array([     1,      2,      3, ..., 537931, 537932, 537933])"
      ]
     },
     "execution_count": 29,
     "metadata": {},
     "output_type": "execute_result"
    }
   ],
   "source": [
    "np.unique(qids)"
   ]
  },
  {
   "cell_type": "code",
   "execution_count": 34,
   "id": "527807b3",
   "metadata": {},
   "outputs": [
    {
     "data": {
      "text/plain": [
       "537933"
      ]
     },
     "execution_count": 34,
     "metadata": {},
     "output_type": "execute_result"
    }
   ],
   "source": [
    "unique_qs=len(np.unique(qids))\n",
    "unique_qs"
   ]
  },
  {
   "cell_type": "markdown",
   "id": "cb97d3f0",
   "metadata": {},
   "source": [
    "**Observation**\\\n",
    "537933 unique questions are present in the dataset."
   ]
  },
  {
   "cell_type": "markdown",
   "id": "56d40717",
   "metadata": {},
   "source": [
    "## Finding number of unique question that appear more than one time"
   ]
  },
  {
   "cell_type": "code",
   "execution_count": 35,
   "id": "fb51ffc3",
   "metadata": {},
   "outputs": [
    {
     "data": {
      "text/plain": [
       "2559      157\n",
       "30782     120\n",
       "4044      111\n",
       "2561       88\n",
       "14376      79\n",
       "         ... \n",
       "416446      1\n",
       "416444      1\n",
       "416441      1\n",
       "416439      1\n",
       "537933      1\n",
       "Length: 537933, dtype: int64"
      ]
     },
     "execution_count": 35,
     "metadata": {},
     "output_type": "execute_result"
    }
   ],
   "source": [
    "qids.value_counts()"
   ]
  },
  {
   "cell_type": "code",
   "execution_count": 53,
   "id": "c166ec66",
   "metadata": {},
   "outputs": [
    {
     "data": {
      "text/plain": [
       "111780"
      ]
     },
     "execution_count": 53,
     "metadata": {},
     "output_type": "execute_result"
    }
   ],
   "source": [
    "unique_question_appeared_morethen1time=np.sum(qids.value_counts()>1)\n",
    "unique_question_appeared_morethen1time"
   ]
  },
  {
   "cell_type": "code",
   "execution_count": 54,
   "id": "aac3301a",
   "metadata": {},
   "outputs": [
    {
     "data": {
      "text/plain": [
       "20.77953945937505"
      ]
     },
     "execution_count": 54,
     "metadata": {},
     "output_type": "execute_result"
    }
   ],
   "source": [
    "unique_question_appeared_morethen1time_occuranceprobability=(unique_question_appeared_morethen1time/unique_qs)*100\n",
    "unique_question_appeared_morethen1time_occuranceprobability"
   ]
  },
  {
   "cell_type": "markdown",
   "id": "61d6a716",
   "metadata": {},
   "source": [
    "**Observation**\\\n",
    "\\\n",
    "111780 unique question is appeared more than 1 time and the apperanance probabilty is 20%."
   ]
  },
  {
   "cell_type": "markdown",
   "id": "0e02b9a8",
   "metadata": {},
   "source": [
    "## Max number of time single question is repeated."
   ]
  },
  {
   "cell_type": "code",
   "execution_count": 55,
   "id": "d51a001d",
   "metadata": {},
   "outputs": [
    {
     "data": {
      "text/plain": [
       "2559      157\n",
       "30782     120\n",
       "4044      111\n",
       "2561       88\n",
       "14376      79\n",
       "         ... \n",
       "416446      1\n",
       "416444      1\n",
       "416441      1\n",
       "416439      1\n",
       "537933      1\n",
       "Length: 537933, dtype: int64"
      ]
     },
     "execution_count": 55,
     "metadata": {},
     "output_type": "execute_result"
    }
   ],
   "source": [
    "qids.value_counts()"
   ]
  },
  {
   "cell_type": "code",
   "execution_count": 56,
   "id": "1006d212",
   "metadata": {},
   "outputs": [
    {
     "data": {
      "text/plain": [
       "157"
      ]
     },
     "execution_count": 56,
     "metadata": {},
     "output_type": "execute_result"
    }
   ],
   "source": [
    "qids.value_counts().max()"
   ]
  },
  {
   "cell_type": "markdown",
   "id": "dad26867",
   "metadata": {},
   "source": [
    "**Observation**\\\n",
    "\\\n",
    "Question with id 2559 is reapeated 157 times which is highest number of times any unique question is repeated"
   ]
  },
  {
   "cell_type": "markdown",
   "id": "e27c1974",
   "metadata": {},
   "source": [
    "## Data Visualization"
   ]
  },
  {
   "cell_type": "markdown",
   "id": "4e8fd762",
   "metadata": {},
   "source": [
    "**Plot Repeated and unique questions**"
   ]
  },
  {
   "cell_type": "code",
   "execution_count": 77,
   "id": "5856a2e7",
   "metadata": {},
   "outputs": [
    {
     "data": {
      "text/plain": [
       "<BarContainer object of 2 artists>"
      ]
     },
     "execution_count": 77,
     "metadata": {},
     "output_type": "execute_result"
    },
    {
     "data": {
      "image/png": "[encoded data removed]",
      "text/plain": [
       "<Figure size 640x480 with 1 Axes>"
      ]
     },
     "metadata": {},
     "output_type": "display_data"
    }
   ],
   "source": [
    "x=['Unique questions','Repeated questions']\n",
    "y=[unique_qs,unique_question_appeared_morethen1time]\n",
    "plt.bar(x,y)"
   ]
  },
  {
   "cell_type": "markdown",
   "id": "58b41c72",
   "metadata": {},
   "source": [
    "## Checking for Duplicates"
   ]
  },
  {
   "cell_type": "code",
   "execution_count": 78,
   "id": "89917b95",
   "metadata": {},
   "outputs": [
    {
     "data": {
      "text/plain": [
       "Index(['id', 'qid1', 'qid2', 'question1', 'question2', 'is_duplicate'], dtype='object')"
      ]
     },
     "execution_count": 78,
     "metadata": {},
     "output_type": "execute_result"
    }
   ],
   "source": [
    "df.columns"
   ]
  },
  {
   "cell_type": "code",
   "execution_count": 86,
   "id": "b73a2e54",
   "metadata": {},
   "outputs": [
    {
     "data": {
      "text/html": [
       "<div>\n",
       "<style scoped>\n",
       "    .dataframe tbody tr th:only-of-type {\n",
       "        vertical-align: middle;\n",
       "    }\n",
       "\n",
       "    .dataframe tbody tr th {\n",
       "        vertical-align: top;\n",
       "    }\n",
       "\n",
       "    .dataframe thead th {\n",
       "        text-align: right;\n",
       "    }\n",
       "</style>\n",
       "<table border=\"1\" class=\"dataframe\">\n",
       "  <thead>\n",
       "    <tr style=\"text-align: right;\">\n",
       "      <th></th>\n",
       "      <th></th>\n",
       "      <th>is_duplicate</th>\n",
       "    </tr>\n",
       "    <tr>\n",
       "      <th>qid1</th>\n",
       "      <th>qid2</th>\n",
       "      <th></th>\n",
       "    </tr>\n",
       "  </thead>\n",
       "  <tbody>\n",
       "    <tr>\n",
       "      <th>1</th>\n",
       "      <th>2</th>\n",
       "      <td>1</td>\n",
       "    </tr>\n",
       "    <tr>\n",
       "      <th rowspan=\"4\" valign=\"top\">3</th>\n",
       "      <th>4</th>\n",
       "      <td>1</td>\n",
       "    </tr>\n",
       "    <tr>\n",
       "      <th>282170</th>\n",
       "      <td>1</td>\n",
       "    </tr>\n",
       "    <tr>\n",
       "      <th>380197</th>\n",
       "      <td>1</td>\n",
       "    </tr>\n",
       "    <tr>\n",
       "      <th>488853</th>\n",
       "      <td>1</td>\n",
       "    </tr>\n",
       "    <tr>\n",
       "      <th>...</th>\n",
       "      <th>...</th>\n",
       "      <td>...</td>\n",
       "    </tr>\n",
       "    <tr>\n",
       "      <th>537924</th>\n",
       "      <th>537925</th>\n",
       "      <td>1</td>\n",
       "    </tr>\n",
       "    <tr>\n",
       "      <th>537926</th>\n",
       "      <th>537927</th>\n",
       "      <td>1</td>\n",
       "    </tr>\n",
       "    <tr>\n",
       "      <th>537928</th>\n",
       "      <th>537929</th>\n",
       "      <td>1</td>\n",
       "    </tr>\n",
       "    <tr>\n",
       "      <th>537930</th>\n",
       "      <th>537931</th>\n",
       "      <td>1</td>\n",
       "    </tr>\n",
       "    <tr>\n",
       "      <th>537932</th>\n",
       "      <th>537933</th>\n",
       "      <td>1</td>\n",
       "    </tr>\n",
       "  </tbody>\n",
       "</table>\n",
       "<p>404290 rows × 1 columns</p>\n",
       "</div>"
      ],
      "text/plain": [
       "               is_duplicate\n",
       "qid1   qid2                \n",
       "1      2                  1\n",
       "3      4                  1\n",
       "       282170             1\n",
       "       380197             1\n",
       "       488853             1\n",
       "...                     ...\n",
       "537924 537925             1\n",
       "537926 537927             1\n",
       "537928 537929             1\n",
       "537930 537931             1\n",
       "537932 537933             1\n",
       "\n",
       "[404290 rows x 1 columns]"
      ]
     },
     "execution_count": 86,
     "metadata": {},
     "output_type": "execute_result"
    }
   ],
   "source": [
    "pair_duplicates=df[['qid1','qid2','is_duplicate']].groupby(['qid1','qid2']).count()\n",
    "pair_duplicates"
   ]
  },
  {
   "cell_type": "code",
   "execution_count": null,
   "id": "6d847fae",
   "metadata": {},
   "outputs": [],
   "source": []
  }
 ],
 "metadata": {
  "kernelspec": {
   "display_name": "Python 3 (ipykernel)",
   "language": "python",
   "name": "python3"
  },
  "language_info": {
   "codemirror_mode": {
    "name": "ipython",
    "version": 3
   },
   "file_extension": ".py",
   "mimetype": "text/x-python",
   "name": "python",
   "nbconvert_exporter": "python",
   "pygments_lexer": "ipython3",
   "version": "3.10.6"
  }
 },
 "nbformat": 4,
 "nbformat_minor": 5
}
